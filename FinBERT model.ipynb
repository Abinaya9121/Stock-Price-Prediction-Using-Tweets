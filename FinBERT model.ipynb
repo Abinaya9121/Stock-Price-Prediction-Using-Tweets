{
  "nbformat": 4,
  "nbformat_minor": 0,
  "metadata": {
    "colab": {
      "provenance": []
    },
    "kernelspec": {
      "name": "python3",
      "display_name": "Python 3"
    },
    "language_info": {
      "name": "python"
    },
    "gpuClass": "standard"
  },
  "cells": [
    {
      "cell_type": "code",
      "source": [
        "from google.colab import drive\n",
        "drive.mount('/content/drive')"
      ],
      "metadata": {
        "colab": {
          "base_uri": "https://localhost:8080/"
        },
        "id": "_jGmP3OR6IWd",
        "outputId": "75f29355-e23a-4b4c-da93-4bf4b1049be2"
      },
      "execution_count": null,
      "outputs": [
        {
          "output_type": "stream",
          "name": "stdout",
          "text": [
            "Drive already mounted at /content/drive; to attempt to forcibly remount, call drive.mount(\"/content/drive\", force_remount=True).\n"
          ]
        }
      ]
    },
    {
      "cell_type": "markdown",
      "source": [
        "## Importing neceassry libraries"
      ],
      "metadata": {
        "id": "0WL8n0itzRFT"
      }
    },
    {
      "cell_type": "code",
      "source": [
        "import os\n",
        "os.environ['TF_FORCE_GPU_ALLOW_GROWTH'] = 'true'"
      ],
      "metadata": {
        "id": "4ZMinCp6Iwy1"
      },
      "execution_count": null,
      "outputs": []
    },
    {
      "cell_type": "code",
      "source": [
        "import pandas as pd\n",
        "import re\n",
        "import string\n",
        "import math\n",
        "import numpy as np\n",
        "import matplotlib.pyplot as plt\n",
        "from matplotlib import pyplot\n",
        "%matplotlib inline\n",
        "from wordcloud import WordCloud\n",
        "from sklearn.preprocessing import MinMaxScaler\n",
        "import seaborn as sns\n",
        "import nltk\n",
        "from nltk.corpus import stopwords, wordnet\n",
        "from nltk import word_tokenize\n",
        "from nltk.stem.wordnet import WordNetLemmatizer\n",
        "\n",
        "from keras.models import Sequential\n",
        "from keras.layers import LSTM, GRU\n",
        "from keras.models import load_model\n",
        "from keras.layers import Dense, Dropout, Bidirectional\n",
        "\n",
        "from sklearn.metrics import mean_absolute_error\n",
        "from sklearn.metrics import mean_squared_error\n",
        "from sklearn.metrics import r2_score"
      ],
      "metadata": {
        "id": "XJFBoj4A0fi8"
      },
      "execution_count": null,
      "outputs": []
    },
    {
      "cell_type": "code",
      "source": [
        "nltk.download('wordnet')\n",
        "nltk.download('punkt')\n",
        "nltk.download('stopwords')"
      ],
      "metadata": {
        "colab": {
          "base_uri": "https://localhost:8080/"
        },
        "id": "gf_qPzgU-Um-",
        "outputId": "f82ec9ed-ec2a-4aa9-9378-4315c2ebd5da"
      },
      "execution_count": null,
      "outputs": [
        {
          "output_type": "stream",
          "name": "stderr",
          "text": [
            "[nltk_data] Downloading package wordnet to /root/nltk_data...\n",
            "[nltk_data]   Package wordnet is already up-to-date!\n",
            "[nltk_data] Downloading package punkt to /root/nltk_data...\n",
            "[nltk_data]   Package punkt is already up-to-date!\n",
            "[nltk_data] Downloading package stopwords to /root/nltk_data...\n",
            "[nltk_data]   Package stopwords is already up-to-date!\n"
          ]
        },
        {
          "output_type": "execute_result",
          "data": {
            "text/plain": [
              "True"
            ]
          },
          "metadata": {},
          "execution_count": 66
        }
      ]
    },
    {
      "cell_type": "markdown",
      "source": [
        "## Reading the dataset"
      ],
      "metadata": {
        "id": "NynLcA7wzXKr"
      }
    },
    {
      "cell_type": "code",
      "source": [
        "df_tsla_tweet = pd.read_csv('/content/drive/MyDrive/Dialog chat/tesla_tweets_data.csv')"
      ],
      "metadata": {
        "id": "94cyPPCwzRP3"
      },
      "execution_count": null,
      "outputs": []
    },
    {
      "cell_type": "code",
      "source": [
        "df_tsla_tweet"
      ],
      "metadata": {
        "colab": {
          "base_uri": "https://localhost:8080/",
          "height": 423
        },
        "id": "-FyowIf10JQE",
        "outputId": "300835e3-fd5f-4d4a-b451-89f71a6f8d61"
      },
      "execution_count": null,
      "outputs": [
        {
          "output_type": "execute_result",
          "data": {
            "text/plain": [
              "                  id        date  \\\n",
              "0       1.212450e+18  02-01-2020   \n",
              "1       1.212450e+18  02-01-2020   \n",
              "2       1.212450e+18  02-01-2020   \n",
              "3       1.212450e+18  02-01-2020   \n",
              "4       1.212450e+18  02-01-2020   \n",
              "...              ...         ...   \n",
              "113736  1.344760e+18  01-01-2021   \n",
              "113737  1.344760e+18  01-01-2021   \n",
              "113738  1.344760e+18  01-01-2021   \n",
              "113739  1.344760e+18  01-01-2021   \n",
              "113740  1.344760e+18  01-01-2021   \n",
              "\n",
              "                                                    tweet  \n",
              "0       Fun fact: Audi registered more E-Tron's in the...  \n",
              "1       That MF TSLA stock at 420.. I watch that shit ...  \n",
              "2       @ICannot_Enough And on June 5 th 2019 within 2...  \n",
              "3       Tesla is gaining momentum in Taiwan 🇹🇼 @TeslaO...  \n",
              "4       @Schuldensuehner Now extrapolate these numbers...  \n",
              "...                                                   ...  \n",
              "113736  #TSLA whales stepping in for the last day of t...  \n",
              "113737  I’ve always wanted to get into investing and t...  \n",
              "113738  @RampCapitalLLC $OPEN little buddy told me is ...  \n",
              "113739  Fantastic week. Thanks for the huge support in...  \n",
              "113740  $TSLA finished 2020 at a pre-split $3,525. Hap...  \n",
              "\n",
              "[113741 rows x 3 columns]"
            ],
            "text/html": [
              "\n",
              "  <div id=\"df-a9131dea-cf10-4037-b8b9-8d65efd8e951\">\n",
              "    <div class=\"colab-df-container\">\n",
              "      <div>\n",
              "<style scoped>\n",
              "    .dataframe tbody tr th:only-of-type {\n",
              "        vertical-align: middle;\n",
              "    }\n",
              "\n",
              "    .dataframe tbody tr th {\n",
              "        vertical-align: top;\n",
              "    }\n",
              "\n",
              "    .dataframe thead th {\n",
              "        text-align: right;\n",
              "    }\n",
              "</style>\n",
              "<table border=\"1\" class=\"dataframe\">\n",
              "  <thead>\n",
              "    <tr style=\"text-align: right;\">\n",
              "      <th></th>\n",
              "      <th>id</th>\n",
              "      <th>date</th>\n",
              "      <th>tweet</th>\n",
              "    </tr>\n",
              "  </thead>\n",
              "  <tbody>\n",
              "    <tr>\n",
              "      <th>0</th>\n",
              "      <td>1.212450e+18</td>\n",
              "      <td>02-01-2020</td>\n",
              "      <td>Fun fact: Audi registered more E-Tron's in the...</td>\n",
              "    </tr>\n",
              "    <tr>\n",
              "      <th>1</th>\n",
              "      <td>1.212450e+18</td>\n",
              "      <td>02-01-2020</td>\n",
              "      <td>That MF TSLA stock at 420.. I watch that shit ...</td>\n",
              "    </tr>\n",
              "    <tr>\n",
              "      <th>2</th>\n",
              "      <td>1.212450e+18</td>\n",
              "      <td>02-01-2020</td>\n",
              "      <td>@ICannot_Enough And on June 5 th 2019 within 2...</td>\n",
              "    </tr>\n",
              "    <tr>\n",
              "      <th>3</th>\n",
              "      <td>1.212450e+18</td>\n",
              "      <td>02-01-2020</td>\n",
              "      <td>Tesla is gaining momentum in Taiwan 🇹🇼 @TeslaO...</td>\n",
              "    </tr>\n",
              "    <tr>\n",
              "      <th>4</th>\n",
              "      <td>1.212450e+18</td>\n",
              "      <td>02-01-2020</td>\n",
              "      <td>@Schuldensuehner Now extrapolate these numbers...</td>\n",
              "    </tr>\n",
              "    <tr>\n",
              "      <th>...</th>\n",
              "      <td>...</td>\n",
              "      <td>...</td>\n",
              "      <td>...</td>\n",
              "    </tr>\n",
              "    <tr>\n",
              "      <th>113736</th>\n",
              "      <td>1.344760e+18</td>\n",
              "      <td>01-01-2021</td>\n",
              "      <td>#TSLA whales stepping in for the last day of t...</td>\n",
              "    </tr>\n",
              "    <tr>\n",
              "      <th>113737</th>\n",
              "      <td>1.344760e+18</td>\n",
              "      <td>01-01-2021</td>\n",
              "      <td>I’ve always wanted to get into investing and t...</td>\n",
              "    </tr>\n",
              "    <tr>\n",
              "      <th>113738</th>\n",
              "      <td>1.344760e+18</td>\n",
              "      <td>01-01-2021</td>\n",
              "      <td>@RampCapitalLLC $OPEN little buddy told me is ...</td>\n",
              "    </tr>\n",
              "    <tr>\n",
              "      <th>113739</th>\n",
              "      <td>1.344760e+18</td>\n",
              "      <td>01-01-2021</td>\n",
              "      <td>Fantastic week. Thanks for the huge support in...</td>\n",
              "    </tr>\n",
              "    <tr>\n",
              "      <th>113740</th>\n",
              "      <td>1.344760e+18</td>\n",
              "      <td>01-01-2021</td>\n",
              "      <td>$TSLA finished 2020 at a pre-split $3,525. Hap...</td>\n",
              "    </tr>\n",
              "  </tbody>\n",
              "</table>\n",
              "<p>113741 rows × 3 columns</p>\n",
              "</div>\n",
              "      <button class=\"colab-df-convert\" onclick=\"convertToInteractive('df-a9131dea-cf10-4037-b8b9-8d65efd8e951')\"\n",
              "              title=\"Convert this dataframe to an interactive table.\"\n",
              "              style=\"display:none;\">\n",
              "        \n",
              "  <svg xmlns=\"http://www.w3.org/2000/svg\" height=\"24px\"viewBox=\"0 0 24 24\"\n",
              "       width=\"24px\">\n",
              "    <path d=\"M0 0h24v24H0V0z\" fill=\"none\"/>\n",
              "    <path d=\"M18.56 5.44l.94 2.06.94-2.06 2.06-.94-2.06-.94-.94-2.06-.94 2.06-2.06.94zm-11 1L8.5 8.5l.94-2.06 2.06-.94-2.06-.94L8.5 2.5l-.94 2.06-2.06.94zm10 10l.94 2.06.94-2.06 2.06-.94-2.06-.94-.94-2.06-.94 2.06-2.06.94z\"/><path d=\"M17.41 7.96l-1.37-1.37c-.4-.4-.92-.59-1.43-.59-.52 0-1.04.2-1.43.59L10.3 9.45l-7.72 7.72c-.78.78-.78 2.05 0 2.83L4 21.41c.39.39.9.59 1.41.59.51 0 1.02-.2 1.41-.59l7.78-7.78 2.81-2.81c.8-.78.8-2.07 0-2.86zM5.41 20L4 18.59l7.72-7.72 1.47 1.35L5.41 20z\"/>\n",
              "  </svg>\n",
              "      </button>\n",
              "      \n",
              "  <style>\n",
              "    .colab-df-container {\n",
              "      display:flex;\n",
              "      flex-wrap:wrap;\n",
              "      gap: 12px;\n",
              "    }\n",
              "\n",
              "    .colab-df-convert {\n",
              "      background-color: #E8F0FE;\n",
              "      border: none;\n",
              "      border-radius: 50%;\n",
              "      cursor: pointer;\n",
              "      display: none;\n",
              "      fill: #1967D2;\n",
              "      height: 32px;\n",
              "      padding: 0 0 0 0;\n",
              "      width: 32px;\n",
              "    }\n",
              "\n",
              "    .colab-df-convert:hover {\n",
              "      background-color: #E2EBFA;\n",
              "      box-shadow: 0px 1px 2px rgba(60, 64, 67, 0.3), 0px 1px 3px 1px rgba(60, 64, 67, 0.15);\n",
              "      fill: #174EA6;\n",
              "    }\n",
              "\n",
              "    [theme=dark] .colab-df-convert {\n",
              "      background-color: #3B4455;\n",
              "      fill: #D2E3FC;\n",
              "    }\n",
              "\n",
              "    [theme=dark] .colab-df-convert:hover {\n",
              "      background-color: #434B5C;\n",
              "      box-shadow: 0px 1px 3px 1px rgba(0, 0, 0, 0.15);\n",
              "      filter: drop-shadow(0px 1px 2px rgba(0, 0, 0, 0.3));\n",
              "      fill: #FFFFFF;\n",
              "    }\n",
              "  </style>\n",
              "\n",
              "      <script>\n",
              "        const buttonEl =\n",
              "          document.querySelector('#df-a9131dea-cf10-4037-b8b9-8d65efd8e951 button.colab-df-convert');\n",
              "        buttonEl.style.display =\n",
              "          google.colab.kernel.accessAllowed ? 'block' : 'none';\n",
              "\n",
              "        async function convertToInteractive(key) {\n",
              "          const element = document.querySelector('#df-a9131dea-cf10-4037-b8b9-8d65efd8e951');\n",
              "          const dataTable =\n",
              "            await google.colab.kernel.invokeFunction('convertToInteractive',\n",
              "                                                     [key], {});\n",
              "          if (!dataTable) return;\n",
              "\n",
              "          const docLinkHtml = 'Like what you see? Visit the ' +\n",
              "            '<a target=\"_blank\" href=https://colab.research.google.com/notebooks/data_table.ipynb>data table notebook</a>'\n",
              "            + ' to learn more about interactive tables.';\n",
              "          element.innerHTML = '';\n",
              "          dataTable['output_type'] = 'display_data';\n",
              "          await google.colab.output.renderOutput(dataTable, element);\n",
              "          const docLink = document.createElement('div');\n",
              "          docLink.innerHTML = docLinkHtml;\n",
              "          element.appendChild(docLink);\n",
              "        }\n",
              "      </script>\n",
              "    </div>\n",
              "  </div>\n",
              "  "
            ]
          },
          "metadata": {},
          "execution_count": 68
        }
      ]
    },
    {
      "cell_type": "code",
      "source": [
        "df_tsla_stock = pd.read_csv('/content/drive/MyDrive/Dialog chat/tesla_stock_data.csv')"
      ],
      "metadata": {
        "id": "qPbP45Qu0NA0"
      },
      "execution_count": null,
      "outputs": []
    },
    {
      "cell_type": "code",
      "source": [
        "df_tsla_stock"
      ],
      "metadata": {
        "colab": {
          "base_uri": "https://localhost:8080/",
          "height": 423
        },
        "id": "Hm9bfVv80XGI",
        "outputId": "f77891d0-f1cc-447e-e1bc-476b27ad1308"
      },
      "execution_count": null,
      "outputs": [
        {
          "output_type": "execute_result",
          "data": {
            "text/plain": [
              "           Date        Open        High         Low       Close   Adj Close  \\\n",
              "0    2020-01-02   28.299999   28.713333   28.114000   28.684000   28.684000   \n",
              "1    2020-01-03   29.366667   30.266666   29.128000   29.534000   29.534000   \n",
              "2    2020-01-06   29.364668   30.104000   29.333332   30.102667   30.102667   \n",
              "3    2020-01-07   30.760000   31.441999   30.224001   31.270666   31.270666   \n",
              "4    2020-01-08   31.580000   33.232666   31.215334   32.809334   32.809334   \n",
              "..          ...         ...         ...         ...         ...         ...   \n",
              "248  2020-12-24  214.330002  222.029999  213.666672  220.589996  220.589996   \n",
              "249  2020-12-28  224.836670  227.133331  220.266663  221.229996  221.229996   \n",
              "250  2020-12-29  220.333328  223.300003  218.333328  221.996674  221.996674   \n",
              "251  2020-12-30  224.000000  232.199997  222.786667  231.593338  231.593338   \n",
              "252  2020-12-31  233.330002  239.573334  230.373337  235.223328  235.223328   \n",
              "\n",
              "        Volume  \n",
              "0    142981500  \n",
              "1    266677500  \n",
              "2    151995000  \n",
              "3    268231500  \n",
              "4    467164500  \n",
              "..         ...  \n",
              "248   68596800  \n",
              "249   96835800  \n",
              "250   68732400  \n",
              "251  128538000  \n",
              "252  148949700  \n",
              "\n",
              "[253 rows x 7 columns]"
            ],
            "text/html": [
              "\n",
              "  <div id=\"df-2c8dbf92-7e7f-4e0e-a5cd-65107ebd1763\">\n",
              "    <div class=\"colab-df-container\">\n",
              "      <div>\n",
              "<style scoped>\n",
              "    .dataframe tbody tr th:only-of-type {\n",
              "        vertical-align: middle;\n",
              "    }\n",
              "\n",
              "    .dataframe tbody tr th {\n",
              "        vertical-align: top;\n",
              "    }\n",
              "\n",
              "    .dataframe thead th {\n",
              "        text-align: right;\n",
              "    }\n",
              "</style>\n",
              "<table border=\"1\" class=\"dataframe\">\n",
              "  <thead>\n",
              "    <tr style=\"text-align: right;\">\n",
              "      <th></th>\n",
              "      <th>Date</th>\n",
              "      <th>Open</th>\n",
              "      <th>High</th>\n",
              "      <th>Low</th>\n",
              "      <th>Close</th>\n",
              "      <th>Adj Close</th>\n",
              "      <th>Volume</th>\n",
              "    </tr>\n",
              "  </thead>\n",
              "  <tbody>\n",
              "    <tr>\n",
              "      <th>0</th>\n",
              "      <td>2020-01-02</td>\n",
              "      <td>28.299999</td>\n",
              "      <td>28.713333</td>\n",
              "      <td>28.114000</td>\n",
              "      <td>28.684000</td>\n",
              "      <td>28.684000</td>\n",
              "      <td>142981500</td>\n",
              "    </tr>\n",
              "    <tr>\n",
              "      <th>1</th>\n",
              "      <td>2020-01-03</td>\n",
              "      <td>29.366667</td>\n",
              "      <td>30.266666</td>\n",
              "      <td>29.128000</td>\n",
              "      <td>29.534000</td>\n",
              "      <td>29.534000</td>\n",
              "      <td>266677500</td>\n",
              "    </tr>\n",
              "    <tr>\n",
              "      <th>2</th>\n",
              "      <td>2020-01-06</td>\n",
              "      <td>29.364668</td>\n",
              "      <td>30.104000</td>\n",
              "      <td>29.333332</td>\n",
              "      <td>30.102667</td>\n",
              "      <td>30.102667</td>\n",
              "      <td>151995000</td>\n",
              "    </tr>\n",
              "    <tr>\n",
              "      <th>3</th>\n",
              "      <td>2020-01-07</td>\n",
              "      <td>30.760000</td>\n",
              "      <td>31.441999</td>\n",
              "      <td>30.224001</td>\n",
              "      <td>31.270666</td>\n",
              "      <td>31.270666</td>\n",
              "      <td>268231500</td>\n",
              "    </tr>\n",
              "    <tr>\n",
              "      <th>4</th>\n",
              "      <td>2020-01-08</td>\n",
              "      <td>31.580000</td>\n",
              "      <td>33.232666</td>\n",
              "      <td>31.215334</td>\n",
              "      <td>32.809334</td>\n",
              "      <td>32.809334</td>\n",
              "      <td>467164500</td>\n",
              "    </tr>\n",
              "    <tr>\n",
              "      <th>...</th>\n",
              "      <td>...</td>\n",
              "      <td>...</td>\n",
              "      <td>...</td>\n",
              "      <td>...</td>\n",
              "      <td>...</td>\n",
              "      <td>...</td>\n",
              "      <td>...</td>\n",
              "    </tr>\n",
              "    <tr>\n",
              "      <th>248</th>\n",
              "      <td>2020-12-24</td>\n",
              "      <td>214.330002</td>\n",
              "      <td>222.029999</td>\n",
              "      <td>213.666672</td>\n",
              "      <td>220.589996</td>\n",
              "      <td>220.589996</td>\n",
              "      <td>68596800</td>\n",
              "    </tr>\n",
              "    <tr>\n",
              "      <th>249</th>\n",
              "      <td>2020-12-28</td>\n",
              "      <td>224.836670</td>\n",
              "      <td>227.133331</td>\n",
              "      <td>220.266663</td>\n",
              "      <td>221.229996</td>\n",
              "      <td>221.229996</td>\n",
              "      <td>96835800</td>\n",
              "    </tr>\n",
              "    <tr>\n",
              "      <th>250</th>\n",
              "      <td>2020-12-29</td>\n",
              "      <td>220.333328</td>\n",
              "      <td>223.300003</td>\n",
              "      <td>218.333328</td>\n",
              "      <td>221.996674</td>\n",
              "      <td>221.996674</td>\n",
              "      <td>68732400</td>\n",
              "    </tr>\n",
              "    <tr>\n",
              "      <th>251</th>\n",
              "      <td>2020-12-30</td>\n",
              "      <td>224.000000</td>\n",
              "      <td>232.199997</td>\n",
              "      <td>222.786667</td>\n",
              "      <td>231.593338</td>\n",
              "      <td>231.593338</td>\n",
              "      <td>128538000</td>\n",
              "    </tr>\n",
              "    <tr>\n",
              "      <th>252</th>\n",
              "      <td>2020-12-31</td>\n",
              "      <td>233.330002</td>\n",
              "      <td>239.573334</td>\n",
              "      <td>230.373337</td>\n",
              "      <td>235.223328</td>\n",
              "      <td>235.223328</td>\n",
              "      <td>148949700</td>\n",
              "    </tr>\n",
              "  </tbody>\n",
              "</table>\n",
              "<p>253 rows × 7 columns</p>\n",
              "</div>\n",
              "      <button class=\"colab-df-convert\" onclick=\"convertToInteractive('df-2c8dbf92-7e7f-4e0e-a5cd-65107ebd1763')\"\n",
              "              title=\"Convert this dataframe to an interactive table.\"\n",
              "              style=\"display:none;\">\n",
              "        \n",
              "  <svg xmlns=\"http://www.w3.org/2000/svg\" height=\"24px\"viewBox=\"0 0 24 24\"\n",
              "       width=\"24px\">\n",
              "    <path d=\"M0 0h24v24H0V0z\" fill=\"none\"/>\n",
              "    <path d=\"M18.56 5.44l.94 2.06.94-2.06 2.06-.94-2.06-.94-.94-2.06-.94 2.06-2.06.94zm-11 1L8.5 8.5l.94-2.06 2.06-.94-2.06-.94L8.5 2.5l-.94 2.06-2.06.94zm10 10l.94 2.06.94-2.06 2.06-.94-2.06-.94-.94-2.06-.94 2.06-2.06.94z\"/><path d=\"M17.41 7.96l-1.37-1.37c-.4-.4-.92-.59-1.43-.59-.52 0-1.04.2-1.43.59L10.3 9.45l-7.72 7.72c-.78.78-.78 2.05 0 2.83L4 21.41c.39.39.9.59 1.41.59.51 0 1.02-.2 1.41-.59l7.78-7.78 2.81-2.81c.8-.78.8-2.07 0-2.86zM5.41 20L4 18.59l7.72-7.72 1.47 1.35L5.41 20z\"/>\n",
              "  </svg>\n",
              "      </button>\n",
              "      \n",
              "  <style>\n",
              "    .colab-df-container {\n",
              "      display:flex;\n",
              "      flex-wrap:wrap;\n",
              "      gap: 12px;\n",
              "    }\n",
              "\n",
              "    .colab-df-convert {\n",
              "      background-color: #E8F0FE;\n",
              "      border: none;\n",
              "      border-radius: 50%;\n",
              "      cursor: pointer;\n",
              "      display: none;\n",
              "      fill: #1967D2;\n",
              "      height: 32px;\n",
              "      padding: 0 0 0 0;\n",
              "      width: 32px;\n",
              "    }\n",
              "\n",
              "    .colab-df-convert:hover {\n",
              "      background-color: #E2EBFA;\n",
              "      box-shadow: 0px 1px 2px rgba(60, 64, 67, 0.3), 0px 1px 3px 1px rgba(60, 64, 67, 0.15);\n",
              "      fill: #174EA6;\n",
              "    }\n",
              "\n",
              "    [theme=dark] .colab-df-convert {\n",
              "      background-color: #3B4455;\n",
              "      fill: #D2E3FC;\n",
              "    }\n",
              "\n",
              "    [theme=dark] .colab-df-convert:hover {\n",
              "      background-color: #434B5C;\n",
              "      box-shadow: 0px 1px 3px 1px rgba(0, 0, 0, 0.15);\n",
              "      filter: drop-shadow(0px 1px 2px rgba(0, 0, 0, 0.3));\n",
              "      fill: #FFFFFF;\n",
              "    }\n",
              "  </style>\n",
              "\n",
              "      <script>\n",
              "        const buttonEl =\n",
              "          document.querySelector('#df-2c8dbf92-7e7f-4e0e-a5cd-65107ebd1763 button.colab-df-convert');\n",
              "        buttonEl.style.display =\n",
              "          google.colab.kernel.accessAllowed ? 'block' : 'none';\n",
              "\n",
              "        async function convertToInteractive(key) {\n",
              "          const element = document.querySelector('#df-2c8dbf92-7e7f-4e0e-a5cd-65107ebd1763');\n",
              "          const dataTable =\n",
              "            await google.colab.kernel.invokeFunction('convertToInteractive',\n",
              "                                                     [key], {});\n",
              "          if (!dataTable) return;\n",
              "\n",
              "          const docLinkHtml = 'Like what you see? Visit the ' +\n",
              "            '<a target=\"_blank\" href=https://colab.research.google.com/notebooks/data_table.ipynb>data table notebook</a>'\n",
              "            + ' to learn more about interactive tables.';\n",
              "          element.innerHTML = '';\n",
              "          dataTable['output_type'] = 'display_data';\n",
              "          await google.colab.output.renderOutput(dataTable, element);\n",
              "          const docLink = document.createElement('div');\n",
              "          docLink.innerHTML = docLinkHtml;\n",
              "          element.appendChild(docLink);\n",
              "        }\n",
              "      </script>\n",
              "    </div>\n",
              "  </div>\n",
              "  "
            ]
          },
          "metadata": {},
          "execution_count": 70
        }
      ]
    },
    {
      "cell_type": "markdown",
      "source": [
        "## Cleaning the dataset"
      ],
      "metadata": {
        "id": "IyrL98At0uMw"
      }
    },
    {
      "cell_type": "code",
      "source": [
        "df_tsla_tweet = df_tsla_tweet.groupby('date').agg({'tweet': ' '.join}).reset_index()"
      ],
      "metadata": {
        "id": "fRqr_wyh4WEp"
      },
      "execution_count": null,
      "outputs": []
    },
    {
      "cell_type": "markdown",
      "source": [
        "**Lower case conversion**"
      ],
      "metadata": {
        "id": "PeqSvDz4YoQM"
      }
    },
    {
      "cell_type": "code",
      "source": [
        "for i in range(df_tsla_tweet.shape[0]):\n",
        "    df_tsla_tweet['tweet'][i] = df_tsla_tweet['tweet'][i].lower()   "
      ],
      "metadata": {
        "id": "OeT2AY4zYdp0"
      },
      "execution_count": null,
      "outputs": []
    },
    {
      "cell_type": "markdown",
      "source": [
        "**Remove Punctuation**"
      ],
      "metadata": {
        "id": "3Uw9S1K-Y4s0"
      }
    },
    {
      "cell_type": "code",
      "source": [
        "df_tsla_tweet['tweet'] = df_tsla_tweet['tweet'].apply(lambda x: re.sub('[%s]' % re.escape(string.punctuation), '' , x))"
      ],
      "metadata": {
        "id": "XLltthzcZHot"
      },
      "execution_count": null,
      "outputs": []
    },
    {
      "cell_type": "markdown",
      "source": [
        "**Remove Stop words**"
      ],
      "metadata": {
        "id": "H2h0kYUdY4xE"
      }
    },
    {
      "cell_type": "code",
      "source": [
        "stop_words = set(stopwords.words('english'))\n",
        "stop_words.add('subject')\n",
        "stop_words.add('http')"
      ],
      "metadata": {
        "id": "yxqPTBwEZZeG"
      },
      "execution_count": null,
      "outputs": []
    },
    {
      "cell_type": "code",
      "source": [
        "def remove_stopwords(text):\n",
        "    return \" \".join([word for word in str(text).split() if word not in stop_words])"
      ],
      "metadata": {
        "id": "RtzNW1VmZINl"
      },
      "execution_count": null,
      "outputs": []
    },
    {
      "cell_type": "code",
      "source": [
        "df_tsla_tweet['tweet'] = df_tsla_tweet['tweet'].apply(lambda x: remove_stopwords(x))"
      ],
      "metadata": {
        "id": "mbvILnUDZc2a"
      },
      "execution_count": null,
      "outputs": []
    },
    {
      "cell_type": "code",
      "source": [
        "df_tsla_tweet"
      ],
      "metadata": {
        "colab": {
          "base_uri": "https://localhost:8080/",
          "height": 423
        },
        "id": "--U6x2XJZmtK",
        "outputId": "493f4fbb-2d1c-4e72-87dc-142638e38df1"
      },
      "execution_count": null,
      "outputs": [
        {
          "output_type": "execute_result",
          "data": {
            "text/plain": [
              "           date                                              tweet\n",
              "0    01-01-2020  tsla tesla faces lawsuit claiming racism https...\n",
              "1    01-01-2021  happy new year everyone even tsla short seller...\n",
              "2    01-02-2020  electrekco michelle0728 cannot build tsla with...\n",
              "3    01-03-2020  😳😳😳😳😳 350km electric vehicle would driving 25 ...\n",
              "4    01-04-2020  tesl “earnings” inflated least 200m per q due ...\n",
              "..          ...                                                ...\n",
              "362  31-05-2020  tsla ita เตง ฉันว่าคนละโพดีกว่าคนละเรือ อย่าเค...\n",
              "363  31-07-2020  garyblack00 elonmusk tsla wont need split wait...\n",
              "364  31-08-2020  shanekinguk sincerely hope ev companies surviv...\n",
              "365  31-10-2020  tesla inc tsla price close 20201030 38804 gfil...\n",
              "366  31-12-2020  lol tsla close right bogus spx inclusion day c...\n",
              "\n",
              "[367 rows x 2 columns]"
            ],
            "text/html": [
              "\n",
              "  <div id=\"df-b7886784-38ed-4287-8217-5d7816e64694\">\n",
              "    <div class=\"colab-df-container\">\n",
              "      <div>\n",
              "<style scoped>\n",
              "    .dataframe tbody tr th:only-of-type {\n",
              "        vertical-align: middle;\n",
              "    }\n",
              "\n",
              "    .dataframe tbody tr th {\n",
              "        vertical-align: top;\n",
              "    }\n",
              "\n",
              "    .dataframe thead th {\n",
              "        text-align: right;\n",
              "    }\n",
              "</style>\n",
              "<table border=\"1\" class=\"dataframe\">\n",
              "  <thead>\n",
              "    <tr style=\"text-align: right;\">\n",
              "      <th></th>\n",
              "      <th>date</th>\n",
              "      <th>tweet</th>\n",
              "    </tr>\n",
              "  </thead>\n",
              "  <tbody>\n",
              "    <tr>\n",
              "      <th>0</th>\n",
              "      <td>01-01-2020</td>\n",
              "      <td>tsla tesla faces lawsuit claiming racism https...</td>\n",
              "    </tr>\n",
              "    <tr>\n",
              "      <th>1</th>\n",
              "      <td>01-01-2021</td>\n",
              "      <td>happy new year everyone even tsla short seller...</td>\n",
              "    </tr>\n",
              "    <tr>\n",
              "      <th>2</th>\n",
              "      <td>01-02-2020</td>\n",
              "      <td>electrekco michelle0728 cannot build tsla with...</td>\n",
              "    </tr>\n",
              "    <tr>\n",
              "      <th>3</th>\n",
              "      <td>01-03-2020</td>\n",
              "      <td>😳😳😳😳😳 350km electric vehicle would driving 25 ...</td>\n",
              "    </tr>\n",
              "    <tr>\n",
              "      <th>4</th>\n",
              "      <td>01-04-2020</td>\n",
              "      <td>tesl “earnings” inflated least 200m per q due ...</td>\n",
              "    </tr>\n",
              "    <tr>\n",
              "      <th>...</th>\n",
              "      <td>...</td>\n",
              "      <td>...</td>\n",
              "    </tr>\n",
              "    <tr>\n",
              "      <th>362</th>\n",
              "      <td>31-05-2020</td>\n",
              "      <td>tsla ita เตง ฉันว่าคนละโพดีกว่าคนละเรือ อย่าเค...</td>\n",
              "    </tr>\n",
              "    <tr>\n",
              "      <th>363</th>\n",
              "      <td>31-07-2020</td>\n",
              "      <td>garyblack00 elonmusk tsla wont need split wait...</td>\n",
              "    </tr>\n",
              "    <tr>\n",
              "      <th>364</th>\n",
              "      <td>31-08-2020</td>\n",
              "      <td>shanekinguk sincerely hope ev companies surviv...</td>\n",
              "    </tr>\n",
              "    <tr>\n",
              "      <th>365</th>\n",
              "      <td>31-10-2020</td>\n",
              "      <td>tesla inc tsla price close 20201030 38804 gfil...</td>\n",
              "    </tr>\n",
              "    <tr>\n",
              "      <th>366</th>\n",
              "      <td>31-12-2020</td>\n",
              "      <td>lol tsla close right bogus spx inclusion day c...</td>\n",
              "    </tr>\n",
              "  </tbody>\n",
              "</table>\n",
              "<p>367 rows × 2 columns</p>\n",
              "</div>\n",
              "      <button class=\"colab-df-convert\" onclick=\"convertToInteractive('df-b7886784-38ed-4287-8217-5d7816e64694')\"\n",
              "              title=\"Convert this dataframe to an interactive table.\"\n",
              "              style=\"display:none;\">\n",
              "        \n",
              "  <svg xmlns=\"http://www.w3.org/2000/svg\" height=\"24px\"viewBox=\"0 0 24 24\"\n",
              "       width=\"24px\">\n",
              "    <path d=\"M0 0h24v24H0V0z\" fill=\"none\"/>\n",
              "    <path d=\"M18.56 5.44l.94 2.06.94-2.06 2.06-.94-2.06-.94-.94-2.06-.94 2.06-2.06.94zm-11 1L8.5 8.5l.94-2.06 2.06-.94-2.06-.94L8.5 2.5l-.94 2.06-2.06.94zm10 10l.94 2.06.94-2.06 2.06-.94-2.06-.94-.94-2.06-.94 2.06-2.06.94z\"/><path d=\"M17.41 7.96l-1.37-1.37c-.4-.4-.92-.59-1.43-.59-.52 0-1.04.2-1.43.59L10.3 9.45l-7.72 7.72c-.78.78-.78 2.05 0 2.83L4 21.41c.39.39.9.59 1.41.59.51 0 1.02-.2 1.41-.59l7.78-7.78 2.81-2.81c.8-.78.8-2.07 0-2.86zM5.41 20L4 18.59l7.72-7.72 1.47 1.35L5.41 20z\"/>\n",
              "  </svg>\n",
              "      </button>\n",
              "      \n",
              "  <style>\n",
              "    .colab-df-container {\n",
              "      display:flex;\n",
              "      flex-wrap:wrap;\n",
              "      gap: 12px;\n",
              "    }\n",
              "\n",
              "    .colab-df-convert {\n",
              "      background-color: #E8F0FE;\n",
              "      border: none;\n",
              "      border-radius: 50%;\n",
              "      cursor: pointer;\n",
              "      display: none;\n",
              "      fill: #1967D2;\n",
              "      height: 32px;\n",
              "      padding: 0 0 0 0;\n",
              "      width: 32px;\n",
              "    }\n",
              "\n",
              "    .colab-df-convert:hover {\n",
              "      background-color: #E2EBFA;\n",
              "      box-shadow: 0px 1px 2px rgba(60, 64, 67, 0.3), 0px 1px 3px 1px rgba(60, 64, 67, 0.15);\n",
              "      fill: #174EA6;\n",
              "    }\n",
              "\n",
              "    [theme=dark] .colab-df-convert {\n",
              "      background-color: #3B4455;\n",
              "      fill: #D2E3FC;\n",
              "    }\n",
              "\n",
              "    [theme=dark] .colab-df-convert:hover {\n",
              "      background-color: #434B5C;\n",
              "      box-shadow: 0px 1px 3px 1px rgba(0, 0, 0, 0.15);\n",
              "      filter: drop-shadow(0px 1px 2px rgba(0, 0, 0, 0.3));\n",
              "      fill: #FFFFFF;\n",
              "    }\n",
              "  </style>\n",
              "\n",
              "      <script>\n",
              "        const buttonEl =\n",
              "          document.querySelector('#df-b7886784-38ed-4287-8217-5d7816e64694 button.colab-df-convert');\n",
              "        buttonEl.style.display =\n",
              "          google.colab.kernel.accessAllowed ? 'block' : 'none';\n",
              "\n",
              "        async function convertToInteractive(key) {\n",
              "          const element = document.querySelector('#df-b7886784-38ed-4287-8217-5d7816e64694');\n",
              "          const dataTable =\n",
              "            await google.colab.kernel.invokeFunction('convertToInteractive',\n",
              "                                                     [key], {});\n",
              "          if (!dataTable) return;\n",
              "\n",
              "          const docLinkHtml = 'Like what you see? Visit the ' +\n",
              "            '<a target=\"_blank\" href=https://colab.research.google.com/notebooks/data_table.ipynb>data table notebook</a>'\n",
              "            + ' to learn more about interactive tables.';\n",
              "          element.innerHTML = '';\n",
              "          dataTable['output_type'] = 'display_data';\n",
              "          await google.colab.output.renderOutput(dataTable, element);\n",
              "          const docLink = document.createElement('div');\n",
              "          docLink.innerHTML = docLinkHtml;\n",
              "          element.appendChild(docLink);\n",
              "        }\n",
              "      </script>\n",
              "    </div>\n",
              "  </div>\n",
              "  "
            ]
          },
          "metadata": {},
          "execution_count": 77
        }
      ]
    },
    {
      "cell_type": "code",
      "source": [
        "df_tsla_tweet['tweet'] = df_tsla_tweet['tweet'].map(lambda x: re.sub(r'http.*', '', x))\n",
        "df_tsla_tweet['tweet'] = df_tsla_tweet['tweet'].map(lambda x: re.sub(r'[^a-zA-Z#]', ' ', x))\n",
        "df_tsla_tweet['tweet'] = df_tsla_tweet['tweet'].map(lambda x: x.replace('tesla', ''))\n",
        "df_tsla_tweet['tweet'] = df_tsla_tweet['tweet'].map(lambda x: x.replace('tsla', ''))\n",
        "df_tsla_tweet['tweet'] = df_tsla_tweet['tweet'].map(lambda x: x.replace('q', ''))\n",
        "df_tsla_tweet['tweet'] = df_tsla_tweet['tweet'].map(lambda x: x.replace('#', ''))"
      ],
      "metadata": {
        "id": "IkKVpa1I7OtN"
      },
      "execution_count": null,
      "outputs": []
    },
    {
      "cell_type": "markdown",
      "source": [
        "**Lemmatization**"
      ],
      "metadata": {
        "id": "dGZ885f8Y41E"
      }
    },
    {
      "cell_type": "code",
      "source": [
        "lemmatizer = WordNetLemmatizer()\n",
        "def lemmatize_words(text):\n",
        "    return \" \".join([lemmatizer.lemmatize(word) for word in text.split()])\n",
        "df_tsla_tweet['tweet'] = df_tsla_tweet['tweet'].apply(lambda text: lemmatize_words(text))"
      ],
      "metadata": {
        "id": "LgGVpGW3Z9eM"
      },
      "execution_count": null,
      "outputs": []
    },
    {
      "cell_type": "code",
      "source": [
        "df_tsla_tweet"
      ],
      "metadata": {
        "colab": {
          "base_uri": "https://localhost:8080/",
          "height": 423
        },
        "id": "BvhnkKbgaDiM",
        "outputId": "1403f20a-0a20-4b38-f067-ebed4d5ff7c7"
      },
      "execution_count": null,
      "outputs": [
        {
          "output_type": "execute_result",
          "data": {
            "text/plain": [
              "           date                                              tweet\n",
              "0    01-01-2020                       face lawsuit claiming racism\n",
              "1    01-01-2021  happy new year everyone even short seller hell...\n",
              "2    01-02-2020  electrekco michelle cannot build without oil y...\n",
              "3    01-03-2020  km electric vehicle would driving million kilo...\n",
              "4    01-04-2020  tesl earnings inflated least m per due massive...\n",
              "..          ...                                                ...\n",
              "362  31-05-2020  ita anti elon shill going continue call fruad ...\n",
              "363  31-07-2020  garyblack elonmusk wont need split wait two mo...\n",
              "364  31-08-2020  shanekinguk sincerely hope ev company survive ...\n",
              "365  31-10-2020  inc price close gfilche buy pogiboi sandropowe...\n",
              "366  31-12-2020  lol close right bogus spx inclusion day close ...\n",
              "\n",
              "[367 rows x 2 columns]"
            ],
            "text/html": [
              "\n",
              "  <div id=\"df-5306910e-73bd-4e60-b4dd-3924a0800c20\">\n",
              "    <div class=\"colab-df-container\">\n",
              "      <div>\n",
              "<style scoped>\n",
              "    .dataframe tbody tr th:only-of-type {\n",
              "        vertical-align: middle;\n",
              "    }\n",
              "\n",
              "    .dataframe tbody tr th {\n",
              "        vertical-align: top;\n",
              "    }\n",
              "\n",
              "    .dataframe thead th {\n",
              "        text-align: right;\n",
              "    }\n",
              "</style>\n",
              "<table border=\"1\" class=\"dataframe\">\n",
              "  <thead>\n",
              "    <tr style=\"text-align: right;\">\n",
              "      <th></th>\n",
              "      <th>date</th>\n",
              "      <th>tweet</th>\n",
              "    </tr>\n",
              "  </thead>\n",
              "  <tbody>\n",
              "    <tr>\n",
              "      <th>0</th>\n",
              "      <td>01-01-2020</td>\n",
              "      <td>face lawsuit claiming racism</td>\n",
              "    </tr>\n",
              "    <tr>\n",
              "      <th>1</th>\n",
              "      <td>01-01-2021</td>\n",
              "      <td>happy new year everyone even short seller hell...</td>\n",
              "    </tr>\n",
              "    <tr>\n",
              "      <th>2</th>\n",
              "      <td>01-02-2020</td>\n",
              "      <td>electrekco michelle cannot build without oil y...</td>\n",
              "    </tr>\n",
              "    <tr>\n",
              "      <th>3</th>\n",
              "      <td>01-03-2020</td>\n",
              "      <td>km electric vehicle would driving million kilo...</td>\n",
              "    </tr>\n",
              "    <tr>\n",
              "      <th>4</th>\n",
              "      <td>01-04-2020</td>\n",
              "      <td>tesl earnings inflated least m per due massive...</td>\n",
              "    </tr>\n",
              "    <tr>\n",
              "      <th>...</th>\n",
              "      <td>...</td>\n",
              "      <td>...</td>\n",
              "    </tr>\n",
              "    <tr>\n",
              "      <th>362</th>\n",
              "      <td>31-05-2020</td>\n",
              "      <td>ita anti elon shill going continue call fruad ...</td>\n",
              "    </tr>\n",
              "    <tr>\n",
              "      <th>363</th>\n",
              "      <td>31-07-2020</td>\n",
              "      <td>garyblack elonmusk wont need split wait two mo...</td>\n",
              "    </tr>\n",
              "    <tr>\n",
              "      <th>364</th>\n",
              "      <td>31-08-2020</td>\n",
              "      <td>shanekinguk sincerely hope ev company survive ...</td>\n",
              "    </tr>\n",
              "    <tr>\n",
              "      <th>365</th>\n",
              "      <td>31-10-2020</td>\n",
              "      <td>inc price close gfilche buy pogiboi sandropowe...</td>\n",
              "    </tr>\n",
              "    <tr>\n",
              "      <th>366</th>\n",
              "      <td>31-12-2020</td>\n",
              "      <td>lol close right bogus spx inclusion day close ...</td>\n",
              "    </tr>\n",
              "  </tbody>\n",
              "</table>\n",
              "<p>367 rows × 2 columns</p>\n",
              "</div>\n",
              "      <button class=\"colab-df-convert\" onclick=\"convertToInteractive('df-5306910e-73bd-4e60-b4dd-3924a0800c20')\"\n",
              "              title=\"Convert this dataframe to an interactive table.\"\n",
              "              style=\"display:none;\">\n",
              "        \n",
              "  <svg xmlns=\"http://www.w3.org/2000/svg\" height=\"24px\"viewBox=\"0 0 24 24\"\n",
              "       width=\"24px\">\n",
              "    <path d=\"M0 0h24v24H0V0z\" fill=\"none\"/>\n",
              "    <path d=\"M18.56 5.44l.94 2.06.94-2.06 2.06-.94-2.06-.94-.94-2.06-.94 2.06-2.06.94zm-11 1L8.5 8.5l.94-2.06 2.06-.94-2.06-.94L8.5 2.5l-.94 2.06-2.06.94zm10 10l.94 2.06.94-2.06 2.06-.94-2.06-.94-.94-2.06-.94 2.06-2.06.94z\"/><path d=\"M17.41 7.96l-1.37-1.37c-.4-.4-.92-.59-1.43-.59-.52 0-1.04.2-1.43.59L10.3 9.45l-7.72 7.72c-.78.78-.78 2.05 0 2.83L4 21.41c.39.39.9.59 1.41.59.51 0 1.02-.2 1.41-.59l7.78-7.78 2.81-2.81c.8-.78.8-2.07 0-2.86zM5.41 20L4 18.59l7.72-7.72 1.47 1.35L5.41 20z\"/>\n",
              "  </svg>\n",
              "      </button>\n",
              "      \n",
              "  <style>\n",
              "    .colab-df-container {\n",
              "      display:flex;\n",
              "      flex-wrap:wrap;\n",
              "      gap: 12px;\n",
              "    }\n",
              "\n",
              "    .colab-df-convert {\n",
              "      background-color: #E8F0FE;\n",
              "      border: none;\n",
              "      border-radius: 50%;\n",
              "      cursor: pointer;\n",
              "      display: none;\n",
              "      fill: #1967D2;\n",
              "      height: 32px;\n",
              "      padding: 0 0 0 0;\n",
              "      width: 32px;\n",
              "    }\n",
              "\n",
              "    .colab-df-convert:hover {\n",
              "      background-color: #E2EBFA;\n",
              "      box-shadow: 0px 1px 2px rgba(60, 64, 67, 0.3), 0px 1px 3px 1px rgba(60, 64, 67, 0.15);\n",
              "      fill: #174EA6;\n",
              "    }\n",
              "\n",
              "    [theme=dark] .colab-df-convert {\n",
              "      background-color: #3B4455;\n",
              "      fill: #D2E3FC;\n",
              "    }\n",
              "\n",
              "    [theme=dark] .colab-df-convert:hover {\n",
              "      background-color: #434B5C;\n",
              "      box-shadow: 0px 1px 3px 1px rgba(0, 0, 0, 0.15);\n",
              "      filter: drop-shadow(0px 1px 2px rgba(0, 0, 0, 0.3));\n",
              "      fill: #FFFFFF;\n",
              "    }\n",
              "  </style>\n",
              "\n",
              "      <script>\n",
              "        const buttonEl =\n",
              "          document.querySelector('#df-5306910e-73bd-4e60-b4dd-3924a0800c20 button.colab-df-convert');\n",
              "        buttonEl.style.display =\n",
              "          google.colab.kernel.accessAllowed ? 'block' : 'none';\n",
              "\n",
              "        async function convertToInteractive(key) {\n",
              "          const element = document.querySelector('#df-5306910e-73bd-4e60-b4dd-3924a0800c20');\n",
              "          const dataTable =\n",
              "            await google.colab.kernel.invokeFunction('convertToInteractive',\n",
              "                                                     [key], {});\n",
              "          if (!dataTable) return;\n",
              "\n",
              "          const docLinkHtml = 'Like what you see? Visit the ' +\n",
              "            '<a target=\"_blank\" href=https://colab.research.google.com/notebooks/data_table.ipynb>data table notebook</a>'\n",
              "            + ' to learn more about interactive tables.';\n",
              "          element.innerHTML = '';\n",
              "          dataTable['output_type'] = 'display_data';\n",
              "          await google.colab.output.renderOutput(dataTable, element);\n",
              "          const docLink = document.createElement('div');\n",
              "          docLink.innerHTML = docLinkHtml;\n",
              "          element.appendChild(docLink);\n",
              "        }\n",
              "      </script>\n",
              "    </div>\n",
              "  </div>\n",
              "  "
            ]
          },
          "metadata": {},
          "execution_count": 80
        }
      ]
    },
    {
      "cell_type": "code",
      "source": [
        "temp_list = []\n",
        "for i in range(len(df_tsla_tweet['tweet'])):\n",
        "    tokens = word_tokenize(df_tsla_tweet['tweet'][i])\n",
        "    temp_list.append(tokens)\n",
        "df_tsla_tweet['tokenized tweet'] = temp_list"
      ],
      "metadata": {
        "id": "rhrMsGIjaJQO"
      },
      "execution_count": null,
      "outputs": []
    },
    {
      "cell_type": "code",
      "source": [
        "df_tsla_tweet"
      ],
      "metadata": {
        "colab": {
          "base_uri": "https://localhost:8080/",
          "height": 423
        },
        "id": "TjSDZk6y-mDr",
        "outputId": "00605dff-bf20-4df8-819a-054f3263f68b"
      },
      "execution_count": null,
      "outputs": [
        {
          "output_type": "execute_result",
          "data": {
            "text/plain": [
              "           date                                              tweet  \\\n",
              "0    01-01-2020                       face lawsuit claiming racism   \n",
              "1    01-01-2021  happy new year everyone even short seller hell...   \n",
              "2    01-02-2020  electrekco michelle cannot build without oil y...   \n",
              "3    01-03-2020  km electric vehicle would driving million kilo...   \n",
              "4    01-04-2020  tesl earnings inflated least m per due massive...   \n",
              "..          ...                                                ...   \n",
              "362  31-05-2020  ita anti elon shill going continue call fruad ...   \n",
              "363  31-07-2020  garyblack elonmusk wont need split wait two mo...   \n",
              "364  31-08-2020  shanekinguk sincerely hope ev company survive ...   \n",
              "365  31-10-2020  inc price close gfilche buy pogiboi sandropowe...   \n",
              "366  31-12-2020  lol close right bogus spx inclusion day close ...   \n",
              "\n",
              "                                       tokenized tweet  \n",
              "0                    [face, lawsuit, claiming, racism]  \n",
              "1    [happy, new, year, everyone, even, short, sell...  \n",
              "2    [electrekco, michelle, can, not, build, withou...  \n",
              "3    [km, electric, vehicle, would, driving, millio...  \n",
              "4    [tesl, earnings, inflated, least, m, per, due,...  \n",
              "..                                                 ...  \n",
              "362  [ita, anti, elon, shill, going, continue, call...  \n",
              "363  [garyblack, elonmusk, wont, need, split, wait,...  \n",
              "364  [shanekinguk, sincerely, hope, ev, company, su...  \n",
              "365  [inc, price, close, gfilche, buy, pogiboi, san...  \n",
              "366  [lol, close, right, bogus, spx, inclusion, day...  \n",
              "\n",
              "[367 rows x 3 columns]"
            ],
            "text/html": [
              "\n",
              "  <div id=\"df-021051c8-7a9b-49ca-bd9a-0f33ac96ff64\">\n",
              "    <div class=\"colab-df-container\">\n",
              "      <div>\n",
              "<style scoped>\n",
              "    .dataframe tbody tr th:only-of-type {\n",
              "        vertical-align: middle;\n",
              "    }\n",
              "\n",
              "    .dataframe tbody tr th {\n",
              "        vertical-align: top;\n",
              "    }\n",
              "\n",
              "    .dataframe thead th {\n",
              "        text-align: right;\n",
              "    }\n",
              "</style>\n",
              "<table border=\"1\" class=\"dataframe\">\n",
              "  <thead>\n",
              "    <tr style=\"text-align: right;\">\n",
              "      <th></th>\n",
              "      <th>date</th>\n",
              "      <th>tweet</th>\n",
              "      <th>tokenized tweet</th>\n",
              "    </tr>\n",
              "  </thead>\n",
              "  <tbody>\n",
              "    <tr>\n",
              "      <th>0</th>\n",
              "      <td>01-01-2020</td>\n",
              "      <td>face lawsuit claiming racism</td>\n",
              "      <td>[face, lawsuit, claiming, racism]</td>\n",
              "    </tr>\n",
              "    <tr>\n",
              "      <th>1</th>\n",
              "      <td>01-01-2021</td>\n",
              "      <td>happy new year everyone even short seller hell...</td>\n",
              "      <td>[happy, new, year, everyone, even, short, sell...</td>\n",
              "    </tr>\n",
              "    <tr>\n",
              "      <th>2</th>\n",
              "      <td>01-02-2020</td>\n",
              "      <td>electrekco michelle cannot build without oil y...</td>\n",
              "      <td>[electrekco, michelle, can, not, build, withou...</td>\n",
              "    </tr>\n",
              "    <tr>\n",
              "      <th>3</th>\n",
              "      <td>01-03-2020</td>\n",
              "      <td>km electric vehicle would driving million kilo...</td>\n",
              "      <td>[km, electric, vehicle, would, driving, millio...</td>\n",
              "    </tr>\n",
              "    <tr>\n",
              "      <th>4</th>\n",
              "      <td>01-04-2020</td>\n",
              "      <td>tesl earnings inflated least m per due massive...</td>\n",
              "      <td>[tesl, earnings, inflated, least, m, per, due,...</td>\n",
              "    </tr>\n",
              "    <tr>\n",
              "      <th>...</th>\n",
              "      <td>...</td>\n",
              "      <td>...</td>\n",
              "      <td>...</td>\n",
              "    </tr>\n",
              "    <tr>\n",
              "      <th>362</th>\n",
              "      <td>31-05-2020</td>\n",
              "      <td>ita anti elon shill going continue call fruad ...</td>\n",
              "      <td>[ita, anti, elon, shill, going, continue, call...</td>\n",
              "    </tr>\n",
              "    <tr>\n",
              "      <th>363</th>\n",
              "      <td>31-07-2020</td>\n",
              "      <td>garyblack elonmusk wont need split wait two mo...</td>\n",
              "      <td>[garyblack, elonmusk, wont, need, split, wait,...</td>\n",
              "    </tr>\n",
              "    <tr>\n",
              "      <th>364</th>\n",
              "      <td>31-08-2020</td>\n",
              "      <td>shanekinguk sincerely hope ev company survive ...</td>\n",
              "      <td>[shanekinguk, sincerely, hope, ev, company, su...</td>\n",
              "    </tr>\n",
              "    <tr>\n",
              "      <th>365</th>\n",
              "      <td>31-10-2020</td>\n",
              "      <td>inc price close gfilche buy pogiboi sandropowe...</td>\n",
              "      <td>[inc, price, close, gfilche, buy, pogiboi, san...</td>\n",
              "    </tr>\n",
              "    <tr>\n",
              "      <th>366</th>\n",
              "      <td>31-12-2020</td>\n",
              "      <td>lol close right bogus spx inclusion day close ...</td>\n",
              "      <td>[lol, close, right, bogus, spx, inclusion, day...</td>\n",
              "    </tr>\n",
              "  </tbody>\n",
              "</table>\n",
              "<p>367 rows × 3 columns</p>\n",
              "</div>\n",
              "      <button class=\"colab-df-convert\" onclick=\"convertToInteractive('df-021051c8-7a9b-49ca-bd9a-0f33ac96ff64')\"\n",
              "              title=\"Convert this dataframe to an interactive table.\"\n",
              "              style=\"display:none;\">\n",
              "        \n",
              "  <svg xmlns=\"http://www.w3.org/2000/svg\" height=\"24px\"viewBox=\"0 0 24 24\"\n",
              "       width=\"24px\">\n",
              "    <path d=\"M0 0h24v24H0V0z\" fill=\"none\"/>\n",
              "    <path d=\"M18.56 5.44l.94 2.06.94-2.06 2.06-.94-2.06-.94-.94-2.06-.94 2.06-2.06.94zm-11 1L8.5 8.5l.94-2.06 2.06-.94-2.06-.94L8.5 2.5l-.94 2.06-2.06.94zm10 10l.94 2.06.94-2.06 2.06-.94-2.06-.94-.94-2.06-.94 2.06-2.06.94z\"/><path d=\"M17.41 7.96l-1.37-1.37c-.4-.4-.92-.59-1.43-.59-.52 0-1.04.2-1.43.59L10.3 9.45l-7.72 7.72c-.78.78-.78 2.05 0 2.83L4 21.41c.39.39.9.59 1.41.59.51 0 1.02-.2 1.41-.59l7.78-7.78 2.81-2.81c.8-.78.8-2.07 0-2.86zM5.41 20L4 18.59l7.72-7.72 1.47 1.35L5.41 20z\"/>\n",
              "  </svg>\n",
              "      </button>\n",
              "      \n",
              "  <style>\n",
              "    .colab-df-container {\n",
              "      display:flex;\n",
              "      flex-wrap:wrap;\n",
              "      gap: 12px;\n",
              "    }\n",
              "\n",
              "    .colab-df-convert {\n",
              "      background-color: #E8F0FE;\n",
              "      border: none;\n",
              "      border-radius: 50%;\n",
              "      cursor: pointer;\n",
              "      display: none;\n",
              "      fill: #1967D2;\n",
              "      height: 32px;\n",
              "      padding: 0 0 0 0;\n",
              "      width: 32px;\n",
              "    }\n",
              "\n",
              "    .colab-df-convert:hover {\n",
              "      background-color: #E2EBFA;\n",
              "      box-shadow: 0px 1px 2px rgba(60, 64, 67, 0.3), 0px 1px 3px 1px rgba(60, 64, 67, 0.15);\n",
              "      fill: #174EA6;\n",
              "    }\n",
              "\n",
              "    [theme=dark] .colab-df-convert {\n",
              "      background-color: #3B4455;\n",
              "      fill: #D2E3FC;\n",
              "    }\n",
              "\n",
              "    [theme=dark] .colab-df-convert:hover {\n",
              "      background-color: #434B5C;\n",
              "      box-shadow: 0px 1px 3px 1px rgba(0, 0, 0, 0.15);\n",
              "      filter: drop-shadow(0px 1px 2px rgba(0, 0, 0, 0.3));\n",
              "      fill: #FFFFFF;\n",
              "    }\n",
              "  </style>\n",
              "\n",
              "      <script>\n",
              "        const buttonEl =\n",
              "          document.querySelector('#df-021051c8-7a9b-49ca-bd9a-0f33ac96ff64 button.colab-df-convert');\n",
              "        buttonEl.style.display =\n",
              "          google.colab.kernel.accessAllowed ? 'block' : 'none';\n",
              "\n",
              "        async function convertToInteractive(key) {\n",
              "          const element = document.querySelector('#df-021051c8-7a9b-49ca-bd9a-0f33ac96ff64');\n",
              "          const dataTable =\n",
              "            await google.colab.kernel.invokeFunction('convertToInteractive',\n",
              "                                                     [key], {});\n",
              "          if (!dataTable) return;\n",
              "\n",
              "          const docLinkHtml = 'Like what you see? Visit the ' +\n",
              "            '<a target=\"_blank\" href=https://colab.research.google.com/notebooks/data_table.ipynb>data table notebook</a>'\n",
              "            + ' to learn more about interactive tables.';\n",
              "          element.innerHTML = '';\n",
              "          dataTable['output_type'] = 'display_data';\n",
              "          await google.colab.output.renderOutput(dataTable, element);\n",
              "          const docLink = document.createElement('div');\n",
              "          docLink.innerHTML = docLinkHtml;\n",
              "          element.appendChild(docLink);\n",
              "        }\n",
              "      </script>\n",
              "    </div>\n",
              "  </div>\n",
              "  "
            ]
          },
          "metadata": {},
          "execution_count": 82
        }
      ]
    },
    {
      "cell_type": "code",
      "source": [
        "df_tsla_stock.dtypes"
      ],
      "metadata": {
        "colab": {
          "base_uri": "https://localhost:8080/"
        },
        "id": "jbtTDA5s-6h_",
        "outputId": "fa53db2a-d1fd-49fc-ab3c-c4e2e8cd6e64"
      },
      "execution_count": null,
      "outputs": [
        {
          "output_type": "execute_result",
          "data": {
            "text/plain": [
              "Date          object\n",
              "Open         float64\n",
              "High         float64\n",
              "Low          float64\n",
              "Close        float64\n",
              "Adj Close    float64\n",
              "Volume         int64\n",
              "dtype: object"
            ]
          },
          "metadata": {},
          "execution_count": 83
        }
      ]
    },
    {
      "cell_type": "code",
      "source": [
        "df_tsla_stock['Date'] = pd.to_datetime(df_tsla_stock['Date'], dayfirst=True)  \n",
        "df_tsla_stock = df_tsla_stock[df_tsla_stock['Date'].isin(pd.date_range('2020-01-02', '2021-01-01'))]\n",
        "df_tsla_stock"
      ],
      "metadata": {
        "colab": {
          "base_uri": "https://localhost:8080/",
          "height": 423
        },
        "id": "LeiYHiz6_kr0",
        "outputId": "19f2955b-7b82-4148-f416-858cb84e6a37"
      },
      "execution_count": null,
      "outputs": [
        {
          "output_type": "execute_result",
          "data": {
            "text/plain": [
              "          Date        Open        High         Low       Close   Adj Close  \\\n",
              "0   2020-01-02   28.299999   28.713333   28.114000   28.684000   28.684000   \n",
              "1   2020-01-03   29.366667   30.266666   29.128000   29.534000   29.534000   \n",
              "2   2020-01-06   29.364668   30.104000   29.333332   30.102667   30.102667   \n",
              "3   2020-01-07   30.760000   31.441999   30.224001   31.270666   31.270666   \n",
              "4   2020-01-08   31.580000   33.232666   31.215334   32.809334   32.809334   \n",
              "..         ...         ...         ...         ...         ...         ...   \n",
              "248 2020-12-24  214.330002  222.029999  213.666672  220.589996  220.589996   \n",
              "249 2020-12-28  224.836670  227.133331  220.266663  221.229996  221.229996   \n",
              "250 2020-12-29  220.333328  223.300003  218.333328  221.996674  221.996674   \n",
              "251 2020-12-30  224.000000  232.199997  222.786667  231.593338  231.593338   \n",
              "252 2020-12-31  233.330002  239.573334  230.373337  235.223328  235.223328   \n",
              "\n",
              "        Volume  \n",
              "0    142981500  \n",
              "1    266677500  \n",
              "2    151995000  \n",
              "3    268231500  \n",
              "4    467164500  \n",
              "..         ...  \n",
              "248   68596800  \n",
              "249   96835800  \n",
              "250   68732400  \n",
              "251  128538000  \n",
              "252  148949700  \n",
              "\n",
              "[253 rows x 7 columns]"
            ],
            "text/html": [
              "\n",
              "  <div id=\"df-b235879d-3bde-41da-9069-33be2ee78de2\">\n",
              "    <div class=\"colab-df-container\">\n",
              "      <div>\n",
              "<style scoped>\n",
              "    .dataframe tbody tr th:only-of-type {\n",
              "        vertical-align: middle;\n",
              "    }\n",
              "\n",
              "    .dataframe tbody tr th {\n",
              "        vertical-align: top;\n",
              "    }\n",
              "\n",
              "    .dataframe thead th {\n",
              "        text-align: right;\n",
              "    }\n",
              "</style>\n",
              "<table border=\"1\" class=\"dataframe\">\n",
              "  <thead>\n",
              "    <tr style=\"text-align: right;\">\n",
              "      <th></th>\n",
              "      <th>Date</th>\n",
              "      <th>Open</th>\n",
              "      <th>High</th>\n",
              "      <th>Low</th>\n",
              "      <th>Close</th>\n",
              "      <th>Adj Close</th>\n",
              "      <th>Volume</th>\n",
              "    </tr>\n",
              "  </thead>\n",
              "  <tbody>\n",
              "    <tr>\n",
              "      <th>0</th>\n",
              "      <td>2020-01-02</td>\n",
              "      <td>28.299999</td>\n",
              "      <td>28.713333</td>\n",
              "      <td>28.114000</td>\n",
              "      <td>28.684000</td>\n",
              "      <td>28.684000</td>\n",
              "      <td>142981500</td>\n",
              "    </tr>\n",
              "    <tr>\n",
              "      <th>1</th>\n",
              "      <td>2020-01-03</td>\n",
              "      <td>29.366667</td>\n",
              "      <td>30.266666</td>\n",
              "      <td>29.128000</td>\n",
              "      <td>29.534000</td>\n",
              "      <td>29.534000</td>\n",
              "      <td>266677500</td>\n",
              "    </tr>\n",
              "    <tr>\n",
              "      <th>2</th>\n",
              "      <td>2020-01-06</td>\n",
              "      <td>29.364668</td>\n",
              "      <td>30.104000</td>\n",
              "      <td>29.333332</td>\n",
              "      <td>30.102667</td>\n",
              "      <td>30.102667</td>\n",
              "      <td>151995000</td>\n",
              "    </tr>\n",
              "    <tr>\n",
              "      <th>3</th>\n",
              "      <td>2020-01-07</td>\n",
              "      <td>30.760000</td>\n",
              "      <td>31.441999</td>\n",
              "      <td>30.224001</td>\n",
              "      <td>31.270666</td>\n",
              "      <td>31.270666</td>\n",
              "      <td>268231500</td>\n",
              "    </tr>\n",
              "    <tr>\n",
              "      <th>4</th>\n",
              "      <td>2020-01-08</td>\n",
              "      <td>31.580000</td>\n",
              "      <td>33.232666</td>\n",
              "      <td>31.215334</td>\n",
              "      <td>32.809334</td>\n",
              "      <td>32.809334</td>\n",
              "      <td>467164500</td>\n",
              "    </tr>\n",
              "    <tr>\n",
              "      <th>...</th>\n",
              "      <td>...</td>\n",
              "      <td>...</td>\n",
              "      <td>...</td>\n",
              "      <td>...</td>\n",
              "      <td>...</td>\n",
              "      <td>...</td>\n",
              "      <td>...</td>\n",
              "    </tr>\n",
              "    <tr>\n",
              "      <th>248</th>\n",
              "      <td>2020-12-24</td>\n",
              "      <td>214.330002</td>\n",
              "      <td>222.029999</td>\n",
              "      <td>213.666672</td>\n",
              "      <td>220.589996</td>\n",
              "      <td>220.589996</td>\n",
              "      <td>68596800</td>\n",
              "    </tr>\n",
              "    <tr>\n",
              "      <th>249</th>\n",
              "      <td>2020-12-28</td>\n",
              "      <td>224.836670</td>\n",
              "      <td>227.133331</td>\n",
              "      <td>220.266663</td>\n",
              "      <td>221.229996</td>\n",
              "      <td>221.229996</td>\n",
              "      <td>96835800</td>\n",
              "    </tr>\n",
              "    <tr>\n",
              "      <th>250</th>\n",
              "      <td>2020-12-29</td>\n",
              "      <td>220.333328</td>\n",
              "      <td>223.300003</td>\n",
              "      <td>218.333328</td>\n",
              "      <td>221.996674</td>\n",
              "      <td>221.996674</td>\n",
              "      <td>68732400</td>\n",
              "    </tr>\n",
              "    <tr>\n",
              "      <th>251</th>\n",
              "      <td>2020-12-30</td>\n",
              "      <td>224.000000</td>\n",
              "      <td>232.199997</td>\n",
              "      <td>222.786667</td>\n",
              "      <td>231.593338</td>\n",
              "      <td>231.593338</td>\n",
              "      <td>128538000</td>\n",
              "    </tr>\n",
              "    <tr>\n",
              "      <th>252</th>\n",
              "      <td>2020-12-31</td>\n",
              "      <td>233.330002</td>\n",
              "      <td>239.573334</td>\n",
              "      <td>230.373337</td>\n",
              "      <td>235.223328</td>\n",
              "      <td>235.223328</td>\n",
              "      <td>148949700</td>\n",
              "    </tr>\n",
              "  </tbody>\n",
              "</table>\n",
              "<p>253 rows × 7 columns</p>\n",
              "</div>\n",
              "      <button class=\"colab-df-convert\" onclick=\"convertToInteractive('df-b235879d-3bde-41da-9069-33be2ee78de2')\"\n",
              "              title=\"Convert this dataframe to an interactive table.\"\n",
              "              style=\"display:none;\">\n",
              "        \n",
              "  <svg xmlns=\"http://www.w3.org/2000/svg\" height=\"24px\"viewBox=\"0 0 24 24\"\n",
              "       width=\"24px\">\n",
              "    <path d=\"M0 0h24v24H0V0z\" fill=\"none\"/>\n",
              "    <path d=\"M18.56 5.44l.94 2.06.94-2.06 2.06-.94-2.06-.94-.94-2.06-.94 2.06-2.06.94zm-11 1L8.5 8.5l.94-2.06 2.06-.94-2.06-.94L8.5 2.5l-.94 2.06-2.06.94zm10 10l.94 2.06.94-2.06 2.06-.94-2.06-.94-.94-2.06-.94 2.06-2.06.94z\"/><path d=\"M17.41 7.96l-1.37-1.37c-.4-.4-.92-.59-1.43-.59-.52 0-1.04.2-1.43.59L10.3 9.45l-7.72 7.72c-.78.78-.78 2.05 0 2.83L4 21.41c.39.39.9.59 1.41.59.51 0 1.02-.2 1.41-.59l7.78-7.78 2.81-2.81c.8-.78.8-2.07 0-2.86zM5.41 20L4 18.59l7.72-7.72 1.47 1.35L5.41 20z\"/>\n",
              "  </svg>\n",
              "      </button>\n",
              "      \n",
              "  <style>\n",
              "    .colab-df-container {\n",
              "      display:flex;\n",
              "      flex-wrap:wrap;\n",
              "      gap: 12px;\n",
              "    }\n",
              "\n",
              "    .colab-df-convert {\n",
              "      background-color: #E8F0FE;\n",
              "      border: none;\n",
              "      border-radius: 50%;\n",
              "      cursor: pointer;\n",
              "      display: none;\n",
              "      fill: #1967D2;\n",
              "      height: 32px;\n",
              "      padding: 0 0 0 0;\n",
              "      width: 32px;\n",
              "    }\n",
              "\n",
              "    .colab-df-convert:hover {\n",
              "      background-color: #E2EBFA;\n",
              "      box-shadow: 0px 1px 2px rgba(60, 64, 67, 0.3), 0px 1px 3px 1px rgba(60, 64, 67, 0.15);\n",
              "      fill: #174EA6;\n",
              "    }\n",
              "\n",
              "    [theme=dark] .colab-df-convert {\n",
              "      background-color: #3B4455;\n",
              "      fill: #D2E3FC;\n",
              "    }\n",
              "\n",
              "    [theme=dark] .colab-df-convert:hover {\n",
              "      background-color: #434B5C;\n",
              "      box-shadow: 0px 1px 3px 1px rgba(0, 0, 0, 0.15);\n",
              "      filter: drop-shadow(0px 1px 2px rgba(0, 0, 0, 0.3));\n",
              "      fill: #FFFFFF;\n",
              "    }\n",
              "  </style>\n",
              "\n",
              "      <script>\n",
              "        const buttonEl =\n",
              "          document.querySelector('#df-b235879d-3bde-41da-9069-33be2ee78de2 button.colab-df-convert');\n",
              "        buttonEl.style.display =\n",
              "          google.colab.kernel.accessAllowed ? 'block' : 'none';\n",
              "\n",
              "        async function convertToInteractive(key) {\n",
              "          const element = document.querySelector('#df-b235879d-3bde-41da-9069-33be2ee78de2');\n",
              "          const dataTable =\n",
              "            await google.colab.kernel.invokeFunction('convertToInteractive',\n",
              "                                                     [key], {});\n",
              "          if (!dataTable) return;\n",
              "\n",
              "          const docLinkHtml = 'Like what you see? Visit the ' +\n",
              "            '<a target=\"_blank\" href=https://colab.research.google.com/notebooks/data_table.ipynb>data table notebook</a>'\n",
              "            + ' to learn more about interactive tables.';\n",
              "          element.innerHTML = '';\n",
              "          dataTable['output_type'] = 'display_data';\n",
              "          await google.colab.output.renderOutput(dataTable, element);\n",
              "          const docLink = document.createElement('div');\n",
              "          docLink.innerHTML = docLinkHtml;\n",
              "          element.appendChild(docLink);\n",
              "        }\n",
              "      </script>\n",
              "    </div>\n",
              "  </div>\n",
              "  "
            ]
          },
          "metadata": {},
          "execution_count": 84
        }
      ]
    },
    {
      "cell_type": "markdown",
      "source": [
        "## Sentiment Score Using Finbert"
      ],
      "metadata": {
        "id": "4CcqpC1UMGwF"
      }
    },
    {
      "cell_type": "code",
      "source": [
        "!pip install transformers"
      ],
      "metadata": {
        "colab": {
          "base_uri": "https://localhost:8080/"
        },
        "id": "dSunOt_6MF8J",
        "outputId": "92c7a0dc-bb21-4b05-c5cd-8145aeedcfd1"
      },
      "execution_count": null,
      "outputs": [
        {
          "output_type": "stream",
          "name": "stdout",
          "text": [
            "Looking in indexes: https://pypi.org/simple, https://us-python.pkg.dev/colab-wheels/public/simple/\n",
            "Requirement already satisfied: transformers in /usr/local/lib/python3.9/dist-packages (4.27.4)\n",
            "Requirement already satisfied: regex!=2019.12.17 in /usr/local/lib/python3.9/dist-packages (from transformers) (2022.10.31)\n",
            "Requirement already satisfied: packaging>=20.0 in /usr/local/lib/python3.9/dist-packages (from transformers) (23.0)\n",
            "Requirement already satisfied: requests in /usr/local/lib/python3.9/dist-packages (from transformers) (2.27.1)\n",
            "Requirement already satisfied: tqdm>=4.27 in /usr/local/lib/python3.9/dist-packages (from transformers) (4.65.0)\n",
            "Requirement already satisfied: filelock in /usr/local/lib/python3.9/dist-packages (from transformers) (3.10.7)\n",
            "Requirement already satisfied: numpy>=1.17 in /usr/local/lib/python3.9/dist-packages (from transformers) (1.22.4)\n",
            "Requirement already satisfied: tokenizers!=0.11.3,<0.14,>=0.11.1 in /usr/local/lib/python3.9/dist-packages (from transformers) (0.13.2)\n",
            "Requirement already satisfied: huggingface-hub<1.0,>=0.11.0 in /usr/local/lib/python3.9/dist-packages (from transformers) (0.13.3)\n",
            "Requirement already satisfied: pyyaml>=5.1 in /usr/local/lib/python3.9/dist-packages (from transformers) (6.0)\n",
            "Requirement already satisfied: typing-extensions>=3.7.4.3 in /usr/local/lib/python3.9/dist-packages (from huggingface-hub<1.0,>=0.11.0->transformers) (4.5.0)\n",
            "Requirement already satisfied: charset-normalizer~=2.0.0 in /usr/local/lib/python3.9/dist-packages (from requests->transformers) (2.0.12)\n",
            "Requirement already satisfied: certifi>=2017.4.17 in /usr/local/lib/python3.9/dist-packages (from requests->transformers) (2022.12.7)\n",
            "Requirement already satisfied: idna<4,>=2.5 in /usr/local/lib/python3.9/dist-packages (from requests->transformers) (3.4)\n",
            "Requirement already satisfied: urllib3<1.27,>=1.21.1 in /usr/local/lib/python3.9/dist-packages (from requests->transformers) (1.26.15)\n"
          ]
        }
      ]
    },
    {
      "cell_type": "code",
      "source": [
        "from transformers import AutoTokenizer, AutoModelForSequenceClassification\n",
        "  \n",
        "tokenizer = AutoTokenizer.from_pretrained(\"ProsusAI/finbert\")\n",
        "\n",
        "model = AutoModelForSequenceClassification.from_pretrained(\"ProsusAI/finbert\")"
      ],
      "metadata": {
        "id": "GDvgcdU7L2SY"
      },
      "execution_count": null,
      "outputs": []
    },
    {
      "cell_type": "code",
      "source": [
        "# def calculate_sentiment_textblob(text):\n",
        "#     testimonial = TextBlob(text)\n",
        "#     return testimonial.sentiment.polarity"
      ],
      "metadata": {
        "id": "IBwZtJoaUhtO"
      },
      "execution_count": null,
      "outputs": []
    },
    {
      "cell_type": "code",
      "source": [
        "import torch\n",
        "def calculate_sentiment_vader(text):\n",
        "    inputs = tokenizer([text], padding = True, truncation = True, return_tensors='pt')\n",
        "    outputs = model(**inputs)\n",
        "    predictions = torch.nn.functional.softmax(outputs.logits, dim=-1)\n",
        "    return 2*predictions[0][0].item()-1"
      ],
      "metadata": {
        "id": "aL8er2CvTKkg"
      },
      "execution_count": null,
      "outputs": []
    },
    {
      "cell_type": "code",
      "source": [
        "df_tsla_tweet['sentiment score'] = df_tsla_tweet['tweet'].apply(calculate_sentiment_vader)\n",
        "# df_tsla_tweet['sentiment score_tb'] = df_tsla_tweet['tweet'].apply(calculate_sentiment_textblob)"
      ],
      "metadata": {
        "id": "Ef7SqrYwTd4G"
      },
      "execution_count": null,
      "outputs": []
    },
    {
      "cell_type": "code",
      "source": [
        "# df_tsla_tweet = df_tsla_tweet.drop(['sentiment score_tb','sentiment score', 'sentiment score_vader'], axis = 1)"
      ],
      "metadata": {
        "id": "Ubnb3qEUVVR7"
      },
      "execution_count": null,
      "outputs": []
    },
    {
      "cell_type": "code",
      "source": [
        "df_tsla_tweet"
      ],
      "metadata": {
        "colab": {
          "base_uri": "https://localhost:8080/",
          "height": 423
        },
        "id": "TaQHsHj0T0wp",
        "outputId": "fb49bba4-072f-4840-e11b-9a6f13e8518c"
      },
      "execution_count": null,
      "outputs": [
        {
          "output_type": "execute_result",
          "data": {
            "text/plain": [
              "           date                                              tweet  \\\n",
              "0    01-01-2020                       face lawsuit claiming racism   \n",
              "1    01-01-2021  happy new year everyone even short seller hell...   \n",
              "2    01-02-2020  electrekco michelle cannot build without oil y...   \n",
              "3    01-03-2020  km electric vehicle would driving million kilo...   \n",
              "4    01-04-2020  tesl earnings inflated least m per due massive...   \n",
              "..          ...                                                ...   \n",
              "362  31-05-2020  ita anti elon shill going continue call fruad ...   \n",
              "363  31-07-2020  garyblack elonmusk wont need split wait two mo...   \n",
              "364  31-08-2020  shanekinguk sincerely hope ev company survive ...   \n",
              "365  31-10-2020  inc price close gfilche buy pogiboi sandropowe...   \n",
              "366  31-12-2020  lol close right bogus spx inclusion day close ...   \n",
              "\n",
              "                                       tokenized tweet  sentiment score  \n",
              "0                    [face, lawsuit, claiming, racism]        -0.960570  \n",
              "1    [happy, new, year, everyone, even, short, sell...        -0.788159  \n",
              "2    [electrekco, michelle, can, not, build, withou...        -0.887213  \n",
              "3    [km, electric, vehicle, would, driving, millio...        -0.578477  \n",
              "4    [tesl, earnings, inflated, least, m, per, due,...        -0.976839  \n",
              "..                                                 ...              ...  \n",
              "362  [ita, anti, elon, shill, going, continue, call...        -0.778709  \n",
              "363  [garyblack, elonmusk, wont, need, split, wait,...        -0.877351  \n",
              "364  [shanekinguk, sincerely, hope, ev, company, su...        -0.806030  \n",
              "365  [inc, price, close, gfilche, buy, pogiboi, san...        -0.794680  \n",
              "366  [lol, close, right, bogus, spx, inclusion, day...        -0.918155  \n",
              "\n",
              "[367 rows x 4 columns]"
            ],
            "text/html": [
              "\n",
              "  <div id=\"df-b78aaa5e-df64-47f6-b2c7-4f347062345e\">\n",
              "    <div class=\"colab-df-container\">\n",
              "      <div>\n",
              "<style scoped>\n",
              "    .dataframe tbody tr th:only-of-type {\n",
              "        vertical-align: middle;\n",
              "    }\n",
              "\n",
              "    .dataframe tbody tr th {\n",
              "        vertical-align: top;\n",
              "    }\n",
              "\n",
              "    .dataframe thead th {\n",
              "        text-align: right;\n",
              "    }\n",
              "</style>\n",
              "<table border=\"1\" class=\"dataframe\">\n",
              "  <thead>\n",
              "    <tr style=\"text-align: right;\">\n",
              "      <th></th>\n",
              "      <th>date</th>\n",
              "      <th>tweet</th>\n",
              "      <th>tokenized tweet</th>\n",
              "      <th>sentiment score</th>\n",
              "    </tr>\n",
              "  </thead>\n",
              "  <tbody>\n",
              "    <tr>\n",
              "      <th>0</th>\n",
              "      <td>01-01-2020</td>\n",
              "      <td>face lawsuit claiming racism</td>\n",
              "      <td>[face, lawsuit, claiming, racism]</td>\n",
              "      <td>-0.960570</td>\n",
              "    </tr>\n",
              "    <tr>\n",
              "      <th>1</th>\n",
              "      <td>01-01-2021</td>\n",
              "      <td>happy new year everyone even short seller hell...</td>\n",
              "      <td>[happy, new, year, everyone, even, short, sell...</td>\n",
              "      <td>-0.788159</td>\n",
              "    </tr>\n",
              "    <tr>\n",
              "      <th>2</th>\n",
              "      <td>01-02-2020</td>\n",
              "      <td>electrekco michelle cannot build without oil y...</td>\n",
              "      <td>[electrekco, michelle, can, not, build, withou...</td>\n",
              "      <td>-0.887213</td>\n",
              "    </tr>\n",
              "    <tr>\n",
              "      <th>3</th>\n",
              "      <td>01-03-2020</td>\n",
              "      <td>km electric vehicle would driving million kilo...</td>\n",
              "      <td>[km, electric, vehicle, would, driving, millio...</td>\n",
              "      <td>-0.578477</td>\n",
              "    </tr>\n",
              "    <tr>\n",
              "      <th>4</th>\n",
              "      <td>01-04-2020</td>\n",
              "      <td>tesl earnings inflated least m per due massive...</td>\n",
              "      <td>[tesl, earnings, inflated, least, m, per, due,...</td>\n",
              "      <td>-0.976839</td>\n",
              "    </tr>\n",
              "    <tr>\n",
              "      <th>...</th>\n",
              "      <td>...</td>\n",
              "      <td>...</td>\n",
              "      <td>...</td>\n",
              "      <td>...</td>\n",
              "    </tr>\n",
              "    <tr>\n",
              "      <th>362</th>\n",
              "      <td>31-05-2020</td>\n",
              "      <td>ita anti elon shill going continue call fruad ...</td>\n",
              "      <td>[ita, anti, elon, shill, going, continue, call...</td>\n",
              "      <td>-0.778709</td>\n",
              "    </tr>\n",
              "    <tr>\n",
              "      <th>363</th>\n",
              "      <td>31-07-2020</td>\n",
              "      <td>garyblack elonmusk wont need split wait two mo...</td>\n",
              "      <td>[garyblack, elonmusk, wont, need, split, wait,...</td>\n",
              "      <td>-0.877351</td>\n",
              "    </tr>\n",
              "    <tr>\n",
              "      <th>364</th>\n",
              "      <td>31-08-2020</td>\n",
              "      <td>shanekinguk sincerely hope ev company survive ...</td>\n",
              "      <td>[shanekinguk, sincerely, hope, ev, company, su...</td>\n",
              "      <td>-0.806030</td>\n",
              "    </tr>\n",
              "    <tr>\n",
              "      <th>365</th>\n",
              "      <td>31-10-2020</td>\n",
              "      <td>inc price close gfilche buy pogiboi sandropowe...</td>\n",
              "      <td>[inc, price, close, gfilche, buy, pogiboi, san...</td>\n",
              "      <td>-0.794680</td>\n",
              "    </tr>\n",
              "    <tr>\n",
              "      <th>366</th>\n",
              "      <td>31-12-2020</td>\n",
              "      <td>lol close right bogus spx inclusion day close ...</td>\n",
              "      <td>[lol, close, right, bogus, spx, inclusion, day...</td>\n",
              "      <td>-0.918155</td>\n",
              "    </tr>\n",
              "  </tbody>\n",
              "</table>\n",
              "<p>367 rows × 4 columns</p>\n",
              "</div>\n",
              "      <button class=\"colab-df-convert\" onclick=\"convertToInteractive('df-b78aaa5e-df64-47f6-b2c7-4f347062345e')\"\n",
              "              title=\"Convert this dataframe to an interactive table.\"\n",
              "              style=\"display:none;\">\n",
              "        \n",
              "  <svg xmlns=\"http://www.w3.org/2000/svg\" height=\"24px\"viewBox=\"0 0 24 24\"\n",
              "       width=\"24px\">\n",
              "    <path d=\"M0 0h24v24H0V0z\" fill=\"none\"/>\n",
              "    <path d=\"M18.56 5.44l.94 2.06.94-2.06 2.06-.94-2.06-.94-.94-2.06-.94 2.06-2.06.94zm-11 1L8.5 8.5l.94-2.06 2.06-.94-2.06-.94L8.5 2.5l-.94 2.06-2.06.94zm10 10l.94 2.06.94-2.06 2.06-.94-2.06-.94-.94-2.06-.94 2.06-2.06.94z\"/><path d=\"M17.41 7.96l-1.37-1.37c-.4-.4-.92-.59-1.43-.59-.52 0-1.04.2-1.43.59L10.3 9.45l-7.72 7.72c-.78.78-.78 2.05 0 2.83L4 21.41c.39.39.9.59 1.41.59.51 0 1.02-.2 1.41-.59l7.78-7.78 2.81-2.81c.8-.78.8-2.07 0-2.86zM5.41 20L4 18.59l7.72-7.72 1.47 1.35L5.41 20z\"/>\n",
              "  </svg>\n",
              "      </button>\n",
              "      \n",
              "  <style>\n",
              "    .colab-df-container {\n",
              "      display:flex;\n",
              "      flex-wrap:wrap;\n",
              "      gap: 12px;\n",
              "    }\n",
              "\n",
              "    .colab-df-convert {\n",
              "      background-color: #E8F0FE;\n",
              "      border: none;\n",
              "      border-radius: 50%;\n",
              "      cursor: pointer;\n",
              "      display: none;\n",
              "      fill: #1967D2;\n",
              "      height: 32px;\n",
              "      padding: 0 0 0 0;\n",
              "      width: 32px;\n",
              "    }\n",
              "\n",
              "    .colab-df-convert:hover {\n",
              "      background-color: #E2EBFA;\n",
              "      box-shadow: 0px 1px 2px rgba(60, 64, 67, 0.3), 0px 1px 3px 1px rgba(60, 64, 67, 0.15);\n",
              "      fill: #174EA6;\n",
              "    }\n",
              "\n",
              "    [theme=dark] .colab-df-convert {\n",
              "      background-color: #3B4455;\n",
              "      fill: #D2E3FC;\n",
              "    }\n",
              "\n",
              "    [theme=dark] .colab-df-convert:hover {\n",
              "      background-color: #434B5C;\n",
              "      box-shadow: 0px 1px 3px 1px rgba(0, 0, 0, 0.15);\n",
              "      filter: drop-shadow(0px 1px 2px rgba(0, 0, 0, 0.3));\n",
              "      fill: #FFFFFF;\n",
              "    }\n",
              "  </style>\n",
              "\n",
              "      <script>\n",
              "        const buttonEl =\n",
              "          document.querySelector('#df-b78aaa5e-df64-47f6-b2c7-4f347062345e button.colab-df-convert');\n",
              "        buttonEl.style.display =\n",
              "          google.colab.kernel.accessAllowed ? 'block' : 'none';\n",
              "\n",
              "        async function convertToInteractive(key) {\n",
              "          const element = document.querySelector('#df-b78aaa5e-df64-47f6-b2c7-4f347062345e');\n",
              "          const dataTable =\n",
              "            await google.colab.kernel.invokeFunction('convertToInteractive',\n",
              "                                                     [key], {});\n",
              "          if (!dataTable) return;\n",
              "\n",
              "          const docLinkHtml = 'Like what you see? Visit the ' +\n",
              "            '<a target=\"_blank\" href=https://colab.research.google.com/notebooks/data_table.ipynb>data table notebook</a>'\n",
              "            + ' to learn more about interactive tables.';\n",
              "          element.innerHTML = '';\n",
              "          dataTable['output_type'] = 'display_data';\n",
              "          await google.colab.output.renderOutput(dataTable, element);\n",
              "          const docLink = document.createElement('div');\n",
              "          docLink.innerHTML = docLinkHtml;\n",
              "          element.appendChild(docLink);\n",
              "        }\n",
              "      </script>\n",
              "    </div>\n",
              "  </div>\n",
              "  "
            ]
          },
          "metadata": {},
          "execution_count": 91
        }
      ]
    },
    {
      "cell_type": "code",
      "source": [
        "df_tsla_tweet.dtypes"
      ],
      "metadata": {
        "colab": {
          "base_uri": "https://localhost:8080/"
        },
        "id": "q4JNJ5ggUFsz",
        "outputId": "be6746c9-7385-4de2-f867-eb2db26eba82"
      },
      "execution_count": null,
      "outputs": [
        {
          "output_type": "execute_result",
          "data": {
            "text/plain": [
              "date                object\n",
              "tweet               object\n",
              "tokenized tweet     object\n",
              "sentiment score    float64\n",
              "dtype: object"
            ]
          },
          "metadata": {},
          "execution_count": 92
        }
      ]
    },
    {
      "cell_type": "code",
      "source": [
        "df_tsla_tweet['date'] = pd.to_datetime(df_tsla_tweet['date'], dayfirst=True)  "
      ],
      "metadata": {
        "id": "CkWfruudW_sc"
      },
      "execution_count": null,
      "outputs": []
    },
    {
      "cell_type": "code",
      "source": [
        "df = pd.merge(df_tsla_tweet, df_tsla_stock, how='inner', left_on = 'date', right_on = 'Date')\n",
        "df"
      ],
      "metadata": {
        "colab": {
          "base_uri": "https://localhost:8080/",
          "height": 797
        },
        "id": "ukebMX_EYnHH",
        "outputId": "8b9a645d-c7a0-4b07-d7df-a16fa7c49202"
      },
      "execution_count": null,
      "outputs": [
        {
          "output_type": "execute_result",
          "data": {
            "text/plain": [
              "          date                                              tweet  \\\n",
              "0   2020-04-01  tesl earnings inflated least m per due massive...   \n",
              "1   2020-05-01  dougkass cnbc f b rev b cash v bubble balance ...   \n",
              "2   2020-06-01  erpauditor tictoctick higher chance yes discla...   \n",
              "3   2020-07-01  level close danahull paying elonmusk musk almo...   \n",
              "4   2020-09-01                      loving new setup far vvpr spy   \n",
              "..         ...                                                ...   \n",
              "248 2020-01-31  concern lack capex guidance stat depreciation ...   \n",
              "249 2020-03-31  caranddriver twitter laughably shit im waiting...   \n",
              "250 2020-07-31  garyblack elonmusk wont need split wait two mo...   \n",
              "251 2020-08-31  shanekinguk sincerely hope ev company survive ...   \n",
              "252 2020-12-31  lol close right bogus spx inclusion day close ...   \n",
              "\n",
              "                                       tokenized tweet  sentiment score  \\\n",
              "0    [tesl, earnings, inflated, least, m, per, due,...        -0.976839   \n",
              "1    [dougkass, cnbc, f, b, rev, b, cash, v, bubble...        -0.925546   \n",
              "2    [erpauditor, tictoctick, higher, chance, yes, ...        -0.693476   \n",
              "3    [level, close, danahull, paying, elonmusk, mus...        -0.866064   \n",
              "4                 [loving, new, setup, far, vvpr, spy]        -0.504389   \n",
              "..                                                 ...              ...   \n",
              "248  [concern, lack, capex, guidance, stat, depreci...        -0.731656   \n",
              "249  [caranddriver, twitter, laughably, shit, im, w...        -0.739217   \n",
              "250  [garyblack, elonmusk, wont, need, split, wait,...        -0.877351   \n",
              "251  [shanekinguk, sincerely, hope, ev, company, su...        -0.806030   \n",
              "252  [lol, close, right, bogus, spx, inclusion, day...        -0.918155   \n",
              "\n",
              "          Date        Open        High         Low       Close   Adj Close  \\\n",
              "0   2020-04-01   33.599998   34.263332   31.673332   32.104000   32.104000   \n",
              "1   2020-05-01   50.333332   51.518002   45.535999   46.754665   46.754665   \n",
              "2   2020-06-01   57.200001   59.933334   56.939999   59.873333   59.873333   \n",
              "3   2020-07-01   72.199997   75.688667   72.033333   74.641998   74.641998   \n",
              "4   2020-09-01  167.380005  167.496674  156.836670  158.350006  158.350006   \n",
              "..         ...         ...         ...         ...         ...         ...   \n",
              "248 2020-01-31   42.666668   43.533333   42.167999   43.371334   43.371334   \n",
              "249 2020-03-31   33.416668   36.197334   33.133331   34.933334   34.933334   \n",
              "250 2020-07-31  101.000000  101.136665   94.732002   95.384003   95.384003   \n",
              "251 2020-08-31  148.203339  166.713333  146.703339  166.106674  166.106674   \n",
              "252 2020-12-31  233.330002  239.573334  230.373337  235.223328  235.223328   \n",
              "\n",
              "        Volume  \n",
              "0    200298000  \n",
              "1    487977000  \n",
              "2    224092500  \n",
              "3    199903500  \n",
              "4    269523300  \n",
              "..         ...  \n",
              "248  235789500  \n",
              "249  266572500  \n",
              "250  183123000  \n",
              "251  355123200  \n",
              "252  148949700  \n",
              "\n",
              "[253 rows x 11 columns]"
            ],
            "text/html": [
              "\n",
              "  <div id=\"df-5bfb84f9-12c8-49b6-863c-ba9142cefe6f\">\n",
              "    <div class=\"colab-df-container\">\n",
              "      <div>\n",
              "<style scoped>\n",
              "    .dataframe tbody tr th:only-of-type {\n",
              "        vertical-align: middle;\n",
              "    }\n",
              "\n",
              "    .dataframe tbody tr th {\n",
              "        vertical-align: top;\n",
              "    }\n",
              "\n",
              "    .dataframe thead th {\n",
              "        text-align: right;\n",
              "    }\n",
              "</style>\n",
              "<table border=\"1\" class=\"dataframe\">\n",
              "  <thead>\n",
              "    <tr style=\"text-align: right;\">\n",
              "      <th></th>\n",
              "      <th>date</th>\n",
              "      <th>tweet</th>\n",
              "      <th>tokenized tweet</th>\n",
              "      <th>sentiment score</th>\n",
              "      <th>Date</th>\n",
              "      <th>Open</th>\n",
              "      <th>High</th>\n",
              "      <th>Low</th>\n",
              "      <th>Close</th>\n",
              "      <th>Adj Close</th>\n",
              "      <th>Volume</th>\n",
              "    </tr>\n",
              "  </thead>\n",
              "  <tbody>\n",
              "    <tr>\n",
              "      <th>0</th>\n",
              "      <td>2020-04-01</td>\n",
              "      <td>tesl earnings inflated least m per due massive...</td>\n",
              "      <td>[tesl, earnings, inflated, least, m, per, due,...</td>\n",
              "      <td>-0.976839</td>\n",
              "      <td>2020-04-01</td>\n",
              "      <td>33.599998</td>\n",
              "      <td>34.263332</td>\n",
              "      <td>31.673332</td>\n",
              "      <td>32.104000</td>\n",
              "      <td>32.104000</td>\n",
              "      <td>200298000</td>\n",
              "    </tr>\n",
              "    <tr>\n",
              "      <th>1</th>\n",
              "      <td>2020-05-01</td>\n",
              "      <td>dougkass cnbc f b rev b cash v bubble balance ...</td>\n",
              "      <td>[dougkass, cnbc, f, b, rev, b, cash, v, bubble...</td>\n",
              "      <td>-0.925546</td>\n",
              "      <td>2020-05-01</td>\n",
              "      <td>50.333332</td>\n",
              "      <td>51.518002</td>\n",
              "      <td>45.535999</td>\n",
              "      <td>46.754665</td>\n",
              "      <td>46.754665</td>\n",
              "      <td>487977000</td>\n",
              "    </tr>\n",
              "    <tr>\n",
              "      <th>2</th>\n",
              "      <td>2020-06-01</td>\n",
              "      <td>erpauditor tictoctick higher chance yes discla...</td>\n",
              "      <td>[erpauditor, tictoctick, higher, chance, yes, ...</td>\n",
              "      <td>-0.693476</td>\n",
              "      <td>2020-06-01</td>\n",
              "      <td>57.200001</td>\n",
              "      <td>59.933334</td>\n",
              "      <td>56.939999</td>\n",
              "      <td>59.873333</td>\n",
              "      <td>59.873333</td>\n",
              "      <td>224092500</td>\n",
              "    </tr>\n",
              "    <tr>\n",
              "      <th>3</th>\n",
              "      <td>2020-07-01</td>\n",
              "      <td>level close danahull paying elonmusk musk almo...</td>\n",
              "      <td>[level, close, danahull, paying, elonmusk, mus...</td>\n",
              "      <td>-0.866064</td>\n",
              "      <td>2020-07-01</td>\n",
              "      <td>72.199997</td>\n",
              "      <td>75.688667</td>\n",
              "      <td>72.033333</td>\n",
              "      <td>74.641998</td>\n",
              "      <td>74.641998</td>\n",
              "      <td>199903500</td>\n",
              "    </tr>\n",
              "    <tr>\n",
              "      <th>4</th>\n",
              "      <td>2020-09-01</td>\n",
              "      <td>loving new setup far vvpr spy</td>\n",
              "      <td>[loving, new, setup, far, vvpr, spy]</td>\n",
              "      <td>-0.504389</td>\n",
              "      <td>2020-09-01</td>\n",
              "      <td>167.380005</td>\n",
              "      <td>167.496674</td>\n",
              "      <td>156.836670</td>\n",
              "      <td>158.350006</td>\n",
              "      <td>158.350006</td>\n",
              "      <td>269523300</td>\n",
              "    </tr>\n",
              "    <tr>\n",
              "      <th>...</th>\n",
              "      <td>...</td>\n",
              "      <td>...</td>\n",
              "      <td>...</td>\n",
              "      <td>...</td>\n",
              "      <td>...</td>\n",
              "      <td>...</td>\n",
              "      <td>...</td>\n",
              "      <td>...</td>\n",
              "      <td>...</td>\n",
              "      <td>...</td>\n",
              "      <td>...</td>\n",
              "    </tr>\n",
              "    <tr>\n",
              "      <th>248</th>\n",
              "      <td>2020-01-31</td>\n",
              "      <td>concern lack capex guidance stat depreciation ...</td>\n",
              "      <td>[concern, lack, capex, guidance, stat, depreci...</td>\n",
              "      <td>-0.731656</td>\n",
              "      <td>2020-01-31</td>\n",
              "      <td>42.666668</td>\n",
              "      <td>43.533333</td>\n",
              "      <td>42.167999</td>\n",
              "      <td>43.371334</td>\n",
              "      <td>43.371334</td>\n",
              "      <td>235789500</td>\n",
              "    </tr>\n",
              "    <tr>\n",
              "      <th>249</th>\n",
              "      <td>2020-03-31</td>\n",
              "      <td>caranddriver twitter laughably shit im waiting...</td>\n",
              "      <td>[caranddriver, twitter, laughably, shit, im, w...</td>\n",
              "      <td>-0.739217</td>\n",
              "      <td>2020-03-31</td>\n",
              "      <td>33.416668</td>\n",
              "      <td>36.197334</td>\n",
              "      <td>33.133331</td>\n",
              "      <td>34.933334</td>\n",
              "      <td>34.933334</td>\n",
              "      <td>266572500</td>\n",
              "    </tr>\n",
              "    <tr>\n",
              "      <th>250</th>\n",
              "      <td>2020-07-31</td>\n",
              "      <td>garyblack elonmusk wont need split wait two mo...</td>\n",
              "      <td>[garyblack, elonmusk, wont, need, split, wait,...</td>\n",
              "      <td>-0.877351</td>\n",
              "      <td>2020-07-31</td>\n",
              "      <td>101.000000</td>\n",
              "      <td>101.136665</td>\n",
              "      <td>94.732002</td>\n",
              "      <td>95.384003</td>\n",
              "      <td>95.384003</td>\n",
              "      <td>183123000</td>\n",
              "    </tr>\n",
              "    <tr>\n",
              "      <th>251</th>\n",
              "      <td>2020-08-31</td>\n",
              "      <td>shanekinguk sincerely hope ev company survive ...</td>\n",
              "      <td>[shanekinguk, sincerely, hope, ev, company, su...</td>\n",
              "      <td>-0.806030</td>\n",
              "      <td>2020-08-31</td>\n",
              "      <td>148.203339</td>\n",
              "      <td>166.713333</td>\n",
              "      <td>146.703339</td>\n",
              "      <td>166.106674</td>\n",
              "      <td>166.106674</td>\n",
              "      <td>355123200</td>\n",
              "    </tr>\n",
              "    <tr>\n",
              "      <th>252</th>\n",
              "      <td>2020-12-31</td>\n",
              "      <td>lol close right bogus spx inclusion day close ...</td>\n",
              "      <td>[lol, close, right, bogus, spx, inclusion, day...</td>\n",
              "      <td>-0.918155</td>\n",
              "      <td>2020-12-31</td>\n",
              "      <td>233.330002</td>\n",
              "      <td>239.573334</td>\n",
              "      <td>230.373337</td>\n",
              "      <td>235.223328</td>\n",
              "      <td>235.223328</td>\n",
              "      <td>148949700</td>\n",
              "    </tr>\n",
              "  </tbody>\n",
              "</table>\n",
              "<p>253 rows × 11 columns</p>\n",
              "</div>\n",
              "      <button class=\"colab-df-convert\" onclick=\"convertToInteractive('df-5bfb84f9-12c8-49b6-863c-ba9142cefe6f')\"\n",
              "              title=\"Convert this dataframe to an interactive table.\"\n",
              "              style=\"display:none;\">\n",
              "        \n",
              "  <svg xmlns=\"http://www.w3.org/2000/svg\" height=\"24px\"viewBox=\"0 0 24 24\"\n",
              "       width=\"24px\">\n",
              "    <path d=\"M0 0h24v24H0V0z\" fill=\"none\"/>\n",
              "    <path d=\"M18.56 5.44l.94 2.06.94-2.06 2.06-.94-2.06-.94-.94-2.06-.94 2.06-2.06.94zm-11 1L8.5 8.5l.94-2.06 2.06-.94-2.06-.94L8.5 2.5l-.94 2.06-2.06.94zm10 10l.94 2.06.94-2.06 2.06-.94-2.06-.94-.94-2.06-.94 2.06-2.06.94z\"/><path d=\"M17.41 7.96l-1.37-1.37c-.4-.4-.92-.59-1.43-.59-.52 0-1.04.2-1.43.59L10.3 9.45l-7.72 7.72c-.78.78-.78 2.05 0 2.83L4 21.41c.39.39.9.59 1.41.59.51 0 1.02-.2 1.41-.59l7.78-7.78 2.81-2.81c.8-.78.8-2.07 0-2.86zM5.41 20L4 18.59l7.72-7.72 1.47 1.35L5.41 20z\"/>\n",
              "  </svg>\n",
              "      </button>\n",
              "      \n",
              "  <style>\n",
              "    .colab-df-container {\n",
              "      display:flex;\n",
              "      flex-wrap:wrap;\n",
              "      gap: 12px;\n",
              "    }\n",
              "\n",
              "    .colab-df-convert {\n",
              "      background-color: #E8F0FE;\n",
              "      border: none;\n",
              "      border-radius: 50%;\n",
              "      cursor: pointer;\n",
              "      display: none;\n",
              "      fill: #1967D2;\n",
              "      height: 32px;\n",
              "      padding: 0 0 0 0;\n",
              "      width: 32px;\n",
              "    }\n",
              "\n",
              "    .colab-df-convert:hover {\n",
              "      background-color: #E2EBFA;\n",
              "      box-shadow: 0px 1px 2px rgba(60, 64, 67, 0.3), 0px 1px 3px 1px rgba(60, 64, 67, 0.15);\n",
              "      fill: #174EA6;\n",
              "    }\n",
              "\n",
              "    [theme=dark] .colab-df-convert {\n",
              "      background-color: #3B4455;\n",
              "      fill: #D2E3FC;\n",
              "    }\n",
              "\n",
              "    [theme=dark] .colab-df-convert:hover {\n",
              "      background-color: #434B5C;\n",
              "      box-shadow: 0px 1px 3px 1px rgba(0, 0, 0, 0.15);\n",
              "      filter: drop-shadow(0px 1px 2px rgba(0, 0, 0, 0.3));\n",
              "      fill: #FFFFFF;\n",
              "    }\n",
              "  </style>\n",
              "\n",
              "      <script>\n",
              "        const buttonEl =\n",
              "          document.querySelector('#df-5bfb84f9-12c8-49b6-863c-ba9142cefe6f button.colab-df-convert');\n",
              "        buttonEl.style.display =\n",
              "          google.colab.kernel.accessAllowed ? 'block' : 'none';\n",
              "\n",
              "        async function convertToInteractive(key) {\n",
              "          const element = document.querySelector('#df-5bfb84f9-12c8-49b6-863c-ba9142cefe6f');\n",
              "          const dataTable =\n",
              "            await google.colab.kernel.invokeFunction('convertToInteractive',\n",
              "                                                     [key], {});\n",
              "          if (!dataTable) return;\n",
              "\n",
              "          const docLinkHtml = 'Like what you see? Visit the ' +\n",
              "            '<a target=\"_blank\" href=https://colab.research.google.com/notebooks/data_table.ipynb>data table notebook</a>'\n",
              "            + ' to learn more about interactive tables.';\n",
              "          element.innerHTML = '';\n",
              "          dataTable['output_type'] = 'display_data';\n",
              "          await google.colab.output.renderOutput(dataTable, element);\n",
              "          const docLink = document.createElement('div');\n",
              "          docLink.innerHTML = docLinkHtml;\n",
              "          element.appendChild(docLink);\n",
              "        }\n",
              "      </script>\n",
              "    </div>\n",
              "  </div>\n",
              "  "
            ]
          },
          "metadata": {},
          "execution_count": 94
        }
      ]
    },
    {
      "cell_type": "code",
      "source": [
        "raw_df = df.copy()"
      ],
      "metadata": {
        "id": "LDn9Vd0OZIeQ"
      },
      "execution_count": null,
      "outputs": []
    },
    {
      "cell_type": "code",
      "source": [
        "df = df[['Date','High','Low','Open','Close','Adj Close','Volume','sentiment score']]"
      ],
      "metadata": {
        "id": "4lQqmM4_Zikq"
      },
      "execution_count": null,
      "outputs": []
    },
    {
      "cell_type": "code",
      "source": [
        "df"
      ],
      "metadata": {
        "colab": {
          "base_uri": "https://localhost:8080/",
          "height": 423
        },
        "id": "zc_cNb0DZ54v",
        "outputId": "4d40b750-b7d9-43b6-8600-b11963a9ad2e"
      },
      "execution_count": null,
      "outputs": [
        {
          "output_type": "execute_result",
          "data": {
            "text/plain": [
              "          Date        High         Low        Open       Close   Adj Close  \\\n",
              "0   2020-04-01   34.263332   31.673332   33.599998   32.104000   32.104000   \n",
              "1   2020-05-01   51.518002   45.535999   50.333332   46.754665   46.754665   \n",
              "2   2020-06-01   59.933334   56.939999   57.200001   59.873333   59.873333   \n",
              "3   2020-07-01   75.688667   72.033333   72.199997   74.641998   74.641998   \n",
              "4   2020-09-01  167.496674  156.836670  167.380005  158.350006  158.350006   \n",
              "..         ...         ...         ...         ...         ...         ...   \n",
              "248 2020-01-31   43.533333   42.167999   42.666668   43.371334   43.371334   \n",
              "249 2020-03-31   36.197334   33.133331   33.416668   34.933334   34.933334   \n",
              "250 2020-07-31  101.136665   94.732002  101.000000   95.384003   95.384003   \n",
              "251 2020-08-31  166.713333  146.703339  148.203339  166.106674  166.106674   \n",
              "252 2020-12-31  239.573334  230.373337  233.330002  235.223328  235.223328   \n",
              "\n",
              "        Volume  sentiment score  \n",
              "0    200298000        -0.976839  \n",
              "1    487977000        -0.925546  \n",
              "2    224092500        -0.693476  \n",
              "3    199903500        -0.866064  \n",
              "4    269523300        -0.504389  \n",
              "..         ...              ...  \n",
              "248  235789500        -0.731656  \n",
              "249  266572500        -0.739217  \n",
              "250  183123000        -0.877351  \n",
              "251  355123200        -0.806030  \n",
              "252  148949700        -0.918155  \n",
              "\n",
              "[253 rows x 8 columns]"
            ],
            "text/html": [
              "\n",
              "  <div id=\"df-e33b2d29-efa6-46d1-86f1-58cf34582e08\">\n",
              "    <div class=\"colab-df-container\">\n",
              "      <div>\n",
              "<style scoped>\n",
              "    .dataframe tbody tr th:only-of-type {\n",
              "        vertical-align: middle;\n",
              "    }\n",
              "\n",
              "    .dataframe tbody tr th {\n",
              "        vertical-align: top;\n",
              "    }\n",
              "\n",
              "    .dataframe thead th {\n",
              "        text-align: right;\n",
              "    }\n",
              "</style>\n",
              "<table border=\"1\" class=\"dataframe\">\n",
              "  <thead>\n",
              "    <tr style=\"text-align: right;\">\n",
              "      <th></th>\n",
              "      <th>Date</th>\n",
              "      <th>High</th>\n",
              "      <th>Low</th>\n",
              "      <th>Open</th>\n",
              "      <th>Close</th>\n",
              "      <th>Adj Close</th>\n",
              "      <th>Volume</th>\n",
              "      <th>sentiment score</th>\n",
              "    </tr>\n",
              "  </thead>\n",
              "  <tbody>\n",
              "    <tr>\n",
              "      <th>0</th>\n",
              "      <td>2020-04-01</td>\n",
              "      <td>34.263332</td>\n",
              "      <td>31.673332</td>\n",
              "      <td>33.599998</td>\n",
              "      <td>32.104000</td>\n",
              "      <td>32.104000</td>\n",
              "      <td>200298000</td>\n",
              "      <td>-0.976839</td>\n",
              "    </tr>\n",
              "    <tr>\n",
              "      <th>1</th>\n",
              "      <td>2020-05-01</td>\n",
              "      <td>51.518002</td>\n",
              "      <td>45.535999</td>\n",
              "      <td>50.333332</td>\n",
              "      <td>46.754665</td>\n",
              "      <td>46.754665</td>\n",
              "      <td>487977000</td>\n",
              "      <td>-0.925546</td>\n",
              "    </tr>\n",
              "    <tr>\n",
              "      <th>2</th>\n",
              "      <td>2020-06-01</td>\n",
              "      <td>59.933334</td>\n",
              "      <td>56.939999</td>\n",
              "      <td>57.200001</td>\n",
              "      <td>59.873333</td>\n",
              "      <td>59.873333</td>\n",
              "      <td>224092500</td>\n",
              "      <td>-0.693476</td>\n",
              "    </tr>\n",
              "    <tr>\n",
              "      <th>3</th>\n",
              "      <td>2020-07-01</td>\n",
              "      <td>75.688667</td>\n",
              "      <td>72.033333</td>\n",
              "      <td>72.199997</td>\n",
              "      <td>74.641998</td>\n",
              "      <td>74.641998</td>\n",
              "      <td>199903500</td>\n",
              "      <td>-0.866064</td>\n",
              "    </tr>\n",
              "    <tr>\n",
              "      <th>4</th>\n",
              "      <td>2020-09-01</td>\n",
              "      <td>167.496674</td>\n",
              "      <td>156.836670</td>\n",
              "      <td>167.380005</td>\n",
              "      <td>158.350006</td>\n",
              "      <td>158.350006</td>\n",
              "      <td>269523300</td>\n",
              "      <td>-0.504389</td>\n",
              "    </tr>\n",
              "    <tr>\n",
              "      <th>...</th>\n",
              "      <td>...</td>\n",
              "      <td>...</td>\n",
              "      <td>...</td>\n",
              "      <td>...</td>\n",
              "      <td>...</td>\n",
              "      <td>...</td>\n",
              "      <td>...</td>\n",
              "      <td>...</td>\n",
              "    </tr>\n",
              "    <tr>\n",
              "      <th>248</th>\n",
              "      <td>2020-01-31</td>\n",
              "      <td>43.533333</td>\n",
              "      <td>42.167999</td>\n",
              "      <td>42.666668</td>\n",
              "      <td>43.371334</td>\n",
              "      <td>43.371334</td>\n",
              "      <td>235789500</td>\n",
              "      <td>-0.731656</td>\n",
              "    </tr>\n",
              "    <tr>\n",
              "      <th>249</th>\n",
              "      <td>2020-03-31</td>\n",
              "      <td>36.197334</td>\n",
              "      <td>33.133331</td>\n",
              "      <td>33.416668</td>\n",
              "      <td>34.933334</td>\n",
              "      <td>34.933334</td>\n",
              "      <td>266572500</td>\n",
              "      <td>-0.739217</td>\n",
              "    </tr>\n",
              "    <tr>\n",
              "      <th>250</th>\n",
              "      <td>2020-07-31</td>\n",
              "      <td>101.136665</td>\n",
              "      <td>94.732002</td>\n",
              "      <td>101.000000</td>\n",
              "      <td>95.384003</td>\n",
              "      <td>95.384003</td>\n",
              "      <td>183123000</td>\n",
              "      <td>-0.877351</td>\n",
              "    </tr>\n",
              "    <tr>\n",
              "      <th>251</th>\n",
              "      <td>2020-08-31</td>\n",
              "      <td>166.713333</td>\n",
              "      <td>146.703339</td>\n",
              "      <td>148.203339</td>\n",
              "      <td>166.106674</td>\n",
              "      <td>166.106674</td>\n",
              "      <td>355123200</td>\n",
              "      <td>-0.806030</td>\n",
              "    </tr>\n",
              "    <tr>\n",
              "      <th>252</th>\n",
              "      <td>2020-12-31</td>\n",
              "      <td>239.573334</td>\n",
              "      <td>230.373337</td>\n",
              "      <td>233.330002</td>\n",
              "      <td>235.223328</td>\n",
              "      <td>235.223328</td>\n",
              "      <td>148949700</td>\n",
              "      <td>-0.918155</td>\n",
              "    </tr>\n",
              "  </tbody>\n",
              "</table>\n",
              "<p>253 rows × 8 columns</p>\n",
              "</div>\n",
              "      <button class=\"colab-df-convert\" onclick=\"convertToInteractive('df-e33b2d29-efa6-46d1-86f1-58cf34582e08')\"\n",
              "              title=\"Convert this dataframe to an interactive table.\"\n",
              "              style=\"display:none;\">\n",
              "        \n",
              "  <svg xmlns=\"http://www.w3.org/2000/svg\" height=\"24px\"viewBox=\"0 0 24 24\"\n",
              "       width=\"24px\">\n",
              "    <path d=\"M0 0h24v24H0V0z\" fill=\"none\"/>\n",
              "    <path d=\"M18.56 5.44l.94 2.06.94-2.06 2.06-.94-2.06-.94-.94-2.06-.94 2.06-2.06.94zm-11 1L8.5 8.5l.94-2.06 2.06-.94-2.06-.94L8.5 2.5l-.94 2.06-2.06.94zm10 10l.94 2.06.94-2.06 2.06-.94-2.06-.94-.94-2.06-.94 2.06-2.06.94z\"/><path d=\"M17.41 7.96l-1.37-1.37c-.4-.4-.92-.59-1.43-.59-.52 0-1.04.2-1.43.59L10.3 9.45l-7.72 7.72c-.78.78-.78 2.05 0 2.83L4 21.41c.39.39.9.59 1.41.59.51 0 1.02-.2 1.41-.59l7.78-7.78 2.81-2.81c.8-.78.8-2.07 0-2.86zM5.41 20L4 18.59l7.72-7.72 1.47 1.35L5.41 20z\"/>\n",
              "  </svg>\n",
              "      </button>\n",
              "      \n",
              "  <style>\n",
              "    .colab-df-container {\n",
              "      display:flex;\n",
              "      flex-wrap:wrap;\n",
              "      gap: 12px;\n",
              "    }\n",
              "\n",
              "    .colab-df-convert {\n",
              "      background-color: #E8F0FE;\n",
              "      border: none;\n",
              "      border-radius: 50%;\n",
              "      cursor: pointer;\n",
              "      display: none;\n",
              "      fill: #1967D2;\n",
              "      height: 32px;\n",
              "      padding: 0 0 0 0;\n",
              "      width: 32px;\n",
              "    }\n",
              "\n",
              "    .colab-df-convert:hover {\n",
              "      background-color: #E2EBFA;\n",
              "      box-shadow: 0px 1px 2px rgba(60, 64, 67, 0.3), 0px 1px 3px 1px rgba(60, 64, 67, 0.15);\n",
              "      fill: #174EA6;\n",
              "    }\n",
              "\n",
              "    [theme=dark] .colab-df-convert {\n",
              "      background-color: #3B4455;\n",
              "      fill: #D2E3FC;\n",
              "    }\n",
              "\n",
              "    [theme=dark] .colab-df-convert:hover {\n",
              "      background-color: #434B5C;\n",
              "      box-shadow: 0px 1px 3px 1px rgba(0, 0, 0, 0.15);\n",
              "      filter: drop-shadow(0px 1px 2px rgba(0, 0, 0, 0.3));\n",
              "      fill: #FFFFFF;\n",
              "    }\n",
              "  </style>\n",
              "\n",
              "      <script>\n",
              "        const buttonEl =\n",
              "          document.querySelector('#df-e33b2d29-efa6-46d1-86f1-58cf34582e08 button.colab-df-convert');\n",
              "        buttonEl.style.display =\n",
              "          google.colab.kernel.accessAllowed ? 'block' : 'none';\n",
              "\n",
              "        async function convertToInteractive(key) {\n",
              "          const element = document.querySelector('#df-e33b2d29-efa6-46d1-86f1-58cf34582e08');\n",
              "          const dataTable =\n",
              "            await google.colab.kernel.invokeFunction('convertToInteractive',\n",
              "                                                     [key], {});\n",
              "          if (!dataTable) return;\n",
              "\n",
              "          const docLinkHtml = 'Like what you see? Visit the ' +\n",
              "            '<a target=\"_blank\" href=https://colab.research.google.com/notebooks/data_table.ipynb>data table notebook</a>'\n",
              "            + ' to learn more about interactive tables.';\n",
              "          element.innerHTML = '';\n",
              "          dataTable['output_type'] = 'display_data';\n",
              "          await google.colab.output.renderOutput(dataTable, element);\n",
              "          const docLink = document.createElement('div');\n",
              "          docLink.innerHTML = docLinkHtml;\n",
              "          element.appendChild(docLink);\n",
              "        }\n",
              "      </script>\n",
              "    </div>\n",
              "  </div>\n",
              "  "
            ]
          },
          "metadata": {},
          "execution_count": 97
        }
      ]
    },
    {
      "cell_type": "markdown",
      "source": [
        "## Prediction with sentiment scores using GRU"
      ],
      "metadata": {
        "id": "DOonW5DBX9oA"
      }
    },
    {
      "cell_type": "code",
      "source": [
        "X_2 = df.drop(['Date', 'Adj Close'], axis = 1)\n",
        "y_2 = df.iloc[:, 4:5]"
      ],
      "metadata": {
        "id": "JWGArmIrnaVx"
      },
      "execution_count": null,
      "outputs": []
    },
    {
      "cell_type": "code",
      "source": [
        "# X = df[['sentiment score']]"
      ],
      "metadata": {
        "id": "tA5E69eTnaVx"
      },
      "execution_count": null,
      "outputs": []
    },
    {
      "cell_type": "code",
      "source": [
        "scaler = MinMaxScaler()\n",
        "X_normalized_2 = scaler.fit_transform(X_2)\n",
        "y_normalized_2 = scaler.fit_transform(y_2)\n",
        "\n",
        "i_split = int(len(df) * 0.9)\n",
        "\n",
        "X_train_2 = X_normalized_2[:i_split, :]\n",
        "y_train_2 = y_normalized_2[:i_split, :]\n",
        "X_test_2 = X_normalized_2[i_split:,:]\n",
        "y_test_2 = y_normalized_2[i_split:,:]"
      ],
      "metadata": {
        "id": "5qR-TS3wnaVy"
      },
      "execution_count": null,
      "outputs": []
    },
    {
      "cell_type": "code",
      "source": [
        "#Reshaping the train data to make it as input for LTSM layer input_shape(batchzise,timesteps,input_dim)\n",
        "X_train_new_2 = np.reshape(X_train_2,(X_train_2.shape[0],X_train_2.shape[1],1))"
      ],
      "metadata": {
        "id": "JqPy4SuMnaVy"
      },
      "execution_count": null,
      "outputs": []
    },
    {
      "cell_type": "code",
      "source": [
        " model_2 = Sequential()\n",
        " model_2.add(GRU(units=5, return_sequences = True, input_shape = (X_train_new_2.shape[1],1)))  # 256, return_sequences = True\n",
        " model_2.add(GRU(units=3, recurrent_dropout = 0.2)) #, return_sequences = True\n",
        " model_2.add(Dense(units=1))"
      ],
      "metadata": {
        "id": "M6rC2lW8fr6w"
      },
      "execution_count": null,
      "outputs": []
    },
    {
      "cell_type": "code",
      "source": [
        " model_2.compile(optimizer = 'adam',loss = 'mean_squared_error')\n",
        " history_2 = model_2.fit(X_train_2, y_train_2, batch_size = 10, epochs = 10)"
      ],
      "metadata": {
        "colab": {
          "base_uri": "https://localhost:8080/"
        },
        "outputId": "9b722fb9-b2a7-4f5c-a5e9-50e418527312",
        "id": "XtfKlCmlnaVy"
      },
      "execution_count": null,
      "outputs": [
        {
          "output_type": "stream",
          "name": "stdout",
          "text": [
            "Epoch 1/10\n",
            "23/23 [==============================] - 5s 9ms/step - loss: 0.1006\n",
            "Epoch 2/10\n",
            "23/23 [==============================] - 0s 11ms/step - loss: 0.0471\n",
            "Epoch 3/10\n",
            "23/23 [==============================] - 0s 10ms/step - loss: 0.0342\n",
            "Epoch 4/10\n",
            "23/23 [==============================] - 0s 10ms/step - loss: 0.0290\n",
            "Epoch 5/10\n",
            "23/23 [==============================] - 1s 29ms/step - loss: 0.0226\n",
            "Epoch 6/10\n",
            "23/23 [==============================] - 1s 36ms/step - loss: 0.0170\n",
            "Epoch 7/10\n",
            "23/23 [==============================] - 1s 49ms/step - loss: 0.0118\n",
            "Epoch 8/10\n",
            "23/23 [==============================] - 1s 51ms/step - loss: 0.0072\n",
            "Epoch 9/10\n",
            "23/23 [==============================] - 1s 50ms/step - loss: 0.0040\n",
            "Epoch 10/10\n",
            "23/23 [==============================] - 1s 35ms/step - loss: 0.0029\n"
          ]
        }
      ]
    },
    {
      "cell_type": "code",
      "source": [
        "pyplot.plot(history_2.history['loss'], label='train')\n",
        "pyplot.legend()\n",
        "pyplot.show()"
      ],
      "metadata": {
        "colab": {
          "base_uri": "https://localhost:8080/",
          "height": 430
        },
        "id": "8fLebVojosHk",
        "outputId": "e024dd16-692e-44eb-d1af-a3d9dcf44196"
      },
      "execution_count": null,
      "outputs": [
        {
          "output_type": "display_data",
          "data": {
            "text/plain": [
              "<Figure size 640x480 with 1 Axes>"
            ],
            "image/png": "[encoded data removed]"
          },
          "metadata": {}
        }
      ]
    },
    {
      "cell_type": "code",
      "source": [
        "# model_2.save('/content/drive/MyDrive/sem-8/nlp/NLP Package/model_2.h5')"
      ],
      "metadata": {
        "id": "GOgh9xjCsSmW"
      },
      "execution_count": null,
      "outputs": []
    },
    {
      "cell_type": "code",
      "source": [
        "# model_2 = load_model('/content/drive/MyDrive/sem-8/nlp/NLP Package/model_2.h5')"
      ],
      "metadata": {
        "id": "a6kopQRVsSmX"
      },
      "execution_count": null,
      "outputs": []
    },
    {
      "cell_type": "code",
      "source": [
        "X_test_new_2 = np.reshape(X_test_2,(X_test_2.shape[0], X_test_2.shape[1],1))\n",
        "predicted_value_2 = model_2.predict(X_test_new_2)"
      ],
      "metadata": {
        "colab": {
          "base_uri": "https://localhost:8080/"
        },
        "outputId": "9c0db7d3-3745-42df-9894-7188ee1fc51f",
        "id": "8ji7IQy1naVy"
      },
      "execution_count": null,
      "outputs": [
        {
          "output_type": "stream",
          "name": "stderr",
          "text": [
            "WARNING:tensorflow:5 out of the last 5 calls to <function Model.make_predict_function.<locals>.predict_function at 0x7f5331fe2e50> triggered tf.function retracing. Tracing is expensive and the excessive number of tracings could be due to (1) creating @tf.function repeatedly in a loop, (2) passing tensors with different shapes, (3) passing Python objects instead of tensors. For (1), please define your @tf.function outside of the loop. For (2), @tf.function has reduce_retracing=True option that can avoid unnecessary retracing. For (3), please refer to https://www.tensorflow.org/guide/function#controlling_retracing and https://www.tensorflow.org/api_docs/python/tf/function for  more details.\n"
          ]
        },
        {
          "output_type": "stream",
          "name": "stdout",
          "text": [
            "1/1 [==============================] - 1s 746ms/step\n"
          ]
        }
      ]
    },
    {
      "cell_type": "code",
      "source": [
        "y_test_2"
      ],
      "metadata": {
        "colab": {
          "base_uri": "https://localhost:8080/"
        },
        "outputId": "da076fa3-01b9-4b4d-868c-802d4f12c8f2",
        "id": "5m9_uYtRnaVy"
      },
      "execution_count": null,
      "outputs": [
        {
          "output_type": "execute_result",
          "data": {
            "text/plain": [
              "array([[0.58481339],\n",
              "       [0.55090254],\n",
              "       [0.52693763],\n",
              "       [0.93372549],\n",
              "       [0.0693909 ],\n",
              "       [0.13870286],\n",
              "       [0.14959286],\n",
              "       [0.2046427 ],\n",
              "       [0.35928112],\n",
              "       [0.54753991],\n",
              "       [0.53453126],\n",
              "       [0.93735659],\n",
              "       [0.08827868],\n",
              "       [0.04449139],\n",
              "       [0.13282056],\n",
              "       [0.22688998],\n",
              "       [0.35561219],\n",
              "       [0.56323231],\n",
              "       [0.49855232],\n",
              "       [0.78202664],\n",
              "       [0.98280783],\n",
              "       [0.09136032],\n",
              "       [0.0513967 ],\n",
              "       [0.33770009],\n",
              "       [0.67265321],\n",
              "       [1.        ]])"
            ]
          },
          "metadata": {},
          "execution_count": 135
        }
      ]
    },
    {
      "cell_type": "code",
      "source": [
        "predicted_value_2"
      ],
      "metadata": {
        "colab": {
          "base_uri": "https://localhost:8080/"
        },
        "outputId": "85c11d00-c6c5-4fc6-cd49-29308207c7ed",
        "id": "7-LavCRgnaVy"
      },
      "execution_count": null,
      "outputs": [
        {
          "output_type": "execute_result",
          "data": {
            "text/plain": [
              "array([[0.6260173 ],\n",
              "       [0.5562228 ],\n",
              "       [0.51224273],\n",
              "       [0.8252526 ],\n",
              "       [0.07405789],\n",
              "       [0.13946772],\n",
              "       [0.12514557],\n",
              "       [0.15746415],\n",
              "       [0.34237322],\n",
              "       [0.54248536],\n",
              "       [0.506037  ],\n",
              "       [0.8156983 ],\n",
              "       [0.14679807],\n",
              "       [0.04006363],\n",
              "       [0.18805008],\n",
              "       [0.22575131],\n",
              "       [0.3319679 ],\n",
              "       [0.5584527 ],\n",
              "       [0.5021123 ],\n",
              "       [0.7556348 ],\n",
              "       [0.82876545],\n",
              "       [0.09545446],\n",
              "       [0.06622379],\n",
              "       [0.3447098 ],\n",
              "       [0.6667537 ],\n",
              "       [0.84554714]], dtype=float32)"
            ]
          },
          "metadata": {},
          "execution_count": 136
        }
      ]
    },
    {
      "cell_type": "code",
      "source": [
        "plt.figure(figsize=(7,3))\n",
        "plt.plot(y_test_2,'red',label='Real Prices')\n",
        "plt.plot(predicted_value_2,'blue',label='Predicted Prices')\n",
        "plt.xlabel('Time')\n",
        "plt.ylabel('Prices')\n",
        "plt.title('Real vs Predicted Prices')\n",
        "plt.legend(loc='best', fontsize=7)"
      ],
      "metadata": {
        "colab": {
          "base_uri": "https://localhost:8080/",
          "height": 350
        },
        "outputId": "f4a40d23-a680-4d20-8635-5df4efa86993",
        "id": "7M0xB0m3naVz"
      },
      "execution_count": null,
      "outputs": [
        {
          "output_type": "execute_result",
          "data": {
            "text/plain": [
              "<matplotlib.legend.Legend at 0x7f532ff1fe20>"
            ]
          },
          "metadata": {},
          "execution_count": 137
        },
        {
          "output_type": "display_data",
          "data": {
            "text/plain": [
              "<Figure size 700x300 with 1 Axes>"
            ],
            "image/png": "[encoded data removed]"
          },
          "metadata": {}
        }
      ]
    },
    {
      "cell_type": "code",
      "source": [
        "print(\"MAE: \", mean_absolute_error(y_test_2, predicted_value_2))\n",
        "print(\"RMSE: \", np.sqrt(mean_squared_error(y_test_2, predicted_value_2)))\n",
        "print(\"R2 Score: \", r2_score(y_test_2, predicted_value_2))"
      ],
      "metadata": {
        "colab": {
          "base_uri": "https://localhost:8080/"
        },
        "outputId": "226a8771-9528-4b74-b680-c4807984aa99",
        "id": "F71fwUZ1naVz"
      },
      "execution_count": null,
      "outputs": [
        {
          "output_type": "stream",
          "name": "stdout",
          "text": [
            "MAE:  0.036033899397790475\n",
            "RMSE:  0.058233751326999\n",
            "R2 Score:  0.9637850640414108\n"
          ]
        }
      ]
    },
    {
      "cell_type": "markdown",
      "source": [
        "## Predcition with sentiment score LSTM"
      ],
      "metadata": {
        "id": "KYcZHL8TudSa"
      }
    },
    {
      "cell_type": "code",
      "source": [
        "X_3 = df.drop(['Date', 'Adj Close'], axis = 1)\n",
        "y_3 = df.iloc[:, 4:5]"
      ],
      "metadata": {
        "id": "6EEx7L_fX9oS"
      },
      "execution_count": null,
      "outputs": []
    },
    {
      "cell_type": "code",
      "source": [
        "# X = df[['sentiment score']]"
      ],
      "metadata": {
        "id": "vG8TbNHSX9oT"
      },
      "execution_count": null,
      "outputs": []
    },
    {
      "cell_type": "code",
      "source": [
        "scaler = MinMaxScaler()\n",
        "X_normalized_3 = scaler.fit_transform(X_3)\n",
        "y_normalized_3 = scaler.fit_transform(y_3)\n",
        "\n",
        "i_split = int(len(df) * 0.9)\n",
        "\n",
        "X_train_3 = X_normalized_3[:i_split, :]\n",
        "y_train_3 = y_normalized_3[:i_split, :]\n",
        "X_test_3 = X_normalized_3[i_split:,:]\n",
        "y_test_3 = y_normalized_3[i_split:,:]"
      ],
      "metadata": {
        "id": "gesQQGX9X9oT"
      },
      "execution_count": null,
      "outputs": []
    },
    {
      "cell_type": "code",
      "source": [
        "#Reshaping the train data to make it as input for LTSM layer input_shape(batchzise,timesteps,input_dim)\n",
        "X_train_new_3 = np.reshape(X_train_3,(X_train_3.shape[0],X_train_3.shape[1],1))"
      ],
      "metadata": {
        "id": "4CbA7S_SX9oT"
      },
      "execution_count": null,
      "outputs": []
    },
    {
      "cell_type": "code",
      "source": [
        "model_3 = Sequential()\n",
        "\n",
        "model_3.add(LSTM(units = 5,kernel_initializer='glorot_uniform',return_sequences=True,input_shape=(X_train_new_3.shape[1],1)))\n",
        "\n",
        "model_3.add(LSTM(units = 2,kernel_initializer='glorot_uniform'))\n",
        "\n",
        "model_3.add(Dense(units = 1))"
      ],
      "metadata": {
        "id": "YDS16ofAX9oU"
      },
      "execution_count": null,
      "outputs": []
    },
    {
      "cell_type": "code",
      "source": [
        "model_3.compile(optimizer = 'adam', loss = 'mean_squared_error')\n",
        "model_3.fit(X_train_3, y_train_3, batch_size = 10, epochs = 10)"
      ],
      "metadata": {
        "colab": {
          "base_uri": "https://localhost:8080/"
        },
        "outputId": "c8bb0485-cf5e-4d65-fc00-66aa5cbe5b63",
        "id": "506HjKALX9oU"
      },
      "execution_count": null,
      "outputs": [
        {
          "output_type": "stream",
          "name": "stdout",
          "text": [
            "Epoch 1/10\n",
            "23/23 [==============================] - 4s 7ms/step - loss: 0.1743\n",
            "Epoch 2/10\n",
            "23/23 [==============================] - 0s 8ms/step - loss: 0.1182\n",
            "Epoch 3/10\n",
            "23/23 [==============================] - 0s 7ms/step - loss: 0.0785\n",
            "Epoch 4/10\n",
            "23/23 [==============================] - 0s 8ms/step - loss: 0.0535\n",
            "Epoch 5/10\n",
            "23/23 [==============================] - 0s 8ms/step - loss: 0.0442\n",
            "Epoch 6/10\n",
            "23/23 [==============================] - 0s 8ms/step - loss: 0.0391\n",
            "Epoch 7/10\n",
            "23/23 [==============================] - 0s 7ms/step - loss: 0.0328\n",
            "Epoch 8/10\n",
            "23/23 [==============================] - 0s 8ms/step - loss: 0.0260\n",
            "Epoch 9/10\n",
            "23/23 [==============================] - 0s 7ms/step - loss: 0.0188\n",
            "Epoch 10/10\n",
            "23/23 [==============================] - 0s 7ms/step - loss: 0.0123\n"
          ]
        },
        {
          "output_type": "execute_result",
          "data": {
            "text/plain": [
              "<keras.callbacks.History at 0x7f5334818e50>"
            ]
          },
          "metadata": {},
          "execution_count": 144
        }
      ]
    },
    {
      "cell_type": "code",
      "source": [
        "model_3.save('/content/drive/MyDrive/sem-8/nlp/NLP Package/model_3.h5')"
      ],
      "metadata": {
        "id": "HkT5QD11rUAb"
      },
      "execution_count": null,
      "outputs": []
    },
    {
      "cell_type": "code",
      "source": [
        "model_3 = load_model('/content/drive/MyDrive/sem-8/nlp/NLP Package/model_3.h5')"
      ],
      "metadata": {
        "id": "B0eQkhEZrUAc"
      },
      "execution_count": null,
      "outputs": []
    },
    {
      "cell_type": "code",
      "source": [
        "X_test_new_3 = np.reshape(X_test_3,(X_test_3.shape[0], X_test_3.shape[1],1))\n",
        "predicted_value_3 = model_3.predict(X_test_new_3)"
      ],
      "metadata": {
        "colab": {
          "base_uri": "https://localhost:8080/"
        },
        "outputId": "4ffd7cda-e673-448b-9deb-a4659a45570d",
        "id": "4Bhq1GY5X9oV"
      },
      "execution_count": null,
      "outputs": [
        {
          "output_type": "stream",
          "name": "stderr",
          "text": [
            "WARNING:tensorflow:6 out of the last 6 calls to <function Model.make_predict_function.<locals>.predict_function at 0x7f5330f2a8b0> triggered tf.function retracing. Tracing is expensive and the excessive number of tracings could be due to (1) creating @tf.function repeatedly in a loop, (2) passing tensors with different shapes, (3) passing Python objects instead of tensors. For (1), please define your @tf.function outside of the loop. For (2), @tf.function has reduce_retracing=True option that can avoid unnecessary retracing. For (3), please refer to https://www.tensorflow.org/guide/function#controlling_retracing and https://www.tensorflow.org/api_docs/python/tf/function for  more details.\n"
          ]
        },
        {
          "output_type": "stream",
          "name": "stdout",
          "text": [
            "1/1 [==============================] - 1s 780ms/step\n"
          ]
        }
      ]
    },
    {
      "cell_type": "code",
      "source": [
        "y_test_3"
      ],
      "metadata": {
        "colab": {
          "base_uri": "https://localhost:8080/"
        },
        "outputId": "8a33cf10-1193-43b6-fb1f-f110ef7811fe",
        "id": "D29fQ186X9oX"
      },
      "execution_count": null,
      "outputs": [
        {
          "output_type": "execute_result",
          "data": {
            "text/plain": [
              "array([[0.58481339],\n",
              "       [0.55090254],\n",
              "       [0.52693763],\n",
              "       [0.93372549],\n",
              "       [0.0693909 ],\n",
              "       [0.13870286],\n",
              "       [0.14959286],\n",
              "       [0.2046427 ],\n",
              "       [0.35928112],\n",
              "       [0.54753991],\n",
              "       [0.53453126],\n",
              "       [0.93735659],\n",
              "       [0.08827868],\n",
              "       [0.04449139],\n",
              "       [0.13282056],\n",
              "       [0.22688998],\n",
              "       [0.35561219],\n",
              "       [0.56323231],\n",
              "       [0.49855232],\n",
              "       [0.78202664],\n",
              "       [0.98280783],\n",
              "       [0.09136032],\n",
              "       [0.0513967 ],\n",
              "       [0.33770009],\n",
              "       [0.67265321],\n",
              "       [1.        ]])"
            ]
          },
          "metadata": {},
          "execution_count": 148
        }
      ]
    },
    {
      "cell_type": "code",
      "source": [
        "predicted_value_3"
      ],
      "metadata": {
        "colab": {
          "base_uri": "https://localhost:8080/"
        },
        "outputId": "7e231c19-485d-441e-eb19-2bb3732126ee",
        "id": "Czh1lGYkX9oX"
      },
      "execution_count": null,
      "outputs": [
        {
          "output_type": "execute_result",
          "data": {
            "text/plain": [
              "array([[0.54723054],\n",
              "       [0.4983712 ],\n",
              "       [0.467208  ],\n",
              "       [0.7679288 ],\n",
              "       [0.18313867],\n",
              "       [0.22075704],\n",
              "       [0.21643713],\n",
              "       [0.23795608],\n",
              "       [0.34829178],\n",
              "       [0.48614907],\n",
              "       [0.46256292],\n",
              "       [0.7591224 ],\n",
              "       [0.21505818],\n",
              "       [0.16659668],\n",
              "       [0.24253443],\n",
              "       [0.2712862 ],\n",
              "       [0.34288347],\n",
              "       [0.49996516],\n",
              "       [0.45759732],\n",
              "       [0.6717797 ],\n",
              "       [0.7576548 ],\n",
              "       [0.19500676],\n",
              "       [0.17672917],\n",
              "       [0.34828392],\n",
              "       [0.5839068 ],\n",
              "       [0.7765775 ]], dtype=float32)"
            ]
          },
          "metadata": {},
          "execution_count": 149
        }
      ]
    },
    {
      "cell_type": "code",
      "source": [
        "plt.figure(figsize=(7,3))\n",
        "plt.plot(y_test_3,'red',label='Real Prices')\n",
        "plt.plot(predicted_value_3,'blue',label='Predicted Prices')\n",
        "plt.xlabel('Time')\n",
        "plt.ylabel('Prices')\n",
        "plt.title('Real vs Predicted Prices')\n",
        "plt.legend(loc='best', fontsize=7)"
      ],
      "metadata": {
        "colab": {
          "base_uri": "https://localhost:8080/",
          "height": 350
        },
        "outputId": "430946d8-89e4-44a0-e679-fa059002dc6d",
        "id": "gaLLt5IqX9oX"
      },
      "execution_count": null,
      "outputs": [
        {
          "output_type": "execute_result",
          "data": {
            "text/plain": [
              "<matplotlib.legend.Legend at 0x7f533440afa0>"
            ]
          },
          "metadata": {},
          "execution_count": 150
        },
        {
          "output_type": "display_data",
          "data": {
            "text/plain": [
              "<Figure size 700x300 with 1 Axes>"
            ],
            "image/png": "[encoded data removed]"
          },
          "metadata": {}
        }
      ]
    },
    {
      "cell_type": "code",
      "source": [
        "print(\"MAE: \", mean_absolute_error(y_test_3, predicted_value_3))\n",
        "print(\"RMSE: \", np.sqrt(mean_squared_error(y_test_3, predicted_value_3)))\n",
        "print(\"R2 Score: \", r2_score(y_test_3, predicted_value_3))"
      ],
      "metadata": {
        "colab": {
          "base_uri": "https://localhost:8080/"
        },
        "outputId": "c373cfda-5fc3-493d-8cfd-48e930ff64fb",
        "id": "GyDnHhGyX9oY"
      },
      "execution_count": null,
      "outputs": [
        {
          "output_type": "stream",
          "name": "stdout",
          "text": [
            "MAE:  0.09004846977939375\n",
            "RMSE:  0.10730109849902109\n",
            "R2 Score:  0.8770449070158475\n"
          ]
        }
      ]
    }
  ]
}